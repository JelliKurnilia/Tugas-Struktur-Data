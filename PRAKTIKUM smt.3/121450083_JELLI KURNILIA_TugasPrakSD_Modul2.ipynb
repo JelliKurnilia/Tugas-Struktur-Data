{
  "nbformat": 4,
  "nbformat_minor": 0,
  "metadata": {
    "colab": {
      "provenance": []
    },
    "kernelspec": {
      "name": "python3",
      "display_name": "Python 3"
    },
    "language_info": {
      "name": "python"
    }
  },
  "cells": [
    {
      "cell_type": "markdown",
      "source": [
        "#**JELLI KURNILIA**\n",
        "# **121450083**\n",
        "# **PRAKTIKUM STRUKTUR DATA (RC)**\n",
        "# **MODUL 2 (Stack, Queues, dan Dequeues)**\n",
        "\n",
        "---\n",
        "\n"
      ],
      "metadata": {
        "id": "DTJs5R_6b_sq"
      }
    },
    {
      "cell_type": "markdown",
      "source": [
        "### 1. Mengacu pada soal Jurnal nomor 7, buatlah Queue ADT menggunakan metode Stack sebagai variabel instance yang akan menghasilkan output sebagai berikut:\n",
        "### Output:\n",
        "### 0 0\n",
        "### 1 1\n",
        "### 2 2\n",
        "###3 3\n",
        "###4 4\n",
        "###5 5\n",
        "###6 6\n",
        "###7 7\n",
        "###8 8\n",
        "###9 9"
      ],
      "metadata": {
        "id": "TA7ljyoQcvG0"
      }
    },
    {
      "cell_type": "code",
      "source": [
        "class Queue:                          # Membuat class Queue\n",
        "  def __init__(self):                 # Pendefinisian yang digunakan untuk melakukan inisialisasi pembuatan object dari class tertentu dan dapat juga ditambah argument lain\n",
        "    self._data = []\n",
        "    self._size = 0\n",
        "\n",
        "  def __len__(self):                  # Pendefinisian ini dilakukan agar objek dari kelas stack dapat dihitung jumlah elemennya menggunakan metode len().\n",
        "    return self._size\n",
        "\n",
        "  def isempty(self):                  # Digunakan untuk memeriksa apakah stack kosong atau tidak \n",
        "    return self._size == 0\n",
        "  \n",
        "  def first(self):\n",
        "    return self._data[0]\n",
        "\n",
        "  def enqueu(self, item):             # Berfungsi untuk menambahkan suatu item baru ke ujung antrian\n",
        "    self._size -= 1\n",
        "    self._data.append(item)\n",
        "\n",
        "  def dequeue(self):                  # Berfungsi untuk menghapus item depan dari antrian\n",
        "    if self.isempty():                # memeriksa apakah antrian kosong atau tidak. jika tidak akses elemen data yang ditunjuk\n",
        "      raise Exception(\"queue kosong\") # exception berguna agar program tidak dilanjutkan ketika eror\n",
        "    else :\n",
        "      self._size += 1\n",
        "      return self._data.pop(0)"
      ],
      "metadata": {
        "id": "DhlgQknafhzb"
      },
      "execution_count": 16,
      "outputs": []
    },
    {
      "cell_type": "code",
      "source": [
        "#stack ADT menggunakan queue\n",
        "class Stackwithqueue():\n",
        "  def __init__(self):                           # Pendefinisian yang digunakan untuk melakukan inisialisasi pembuatan object dari class tertentu dan dapat juga ditambah argument lain\n",
        "    self._data = Queue()\n",
        "    self._size = 0\n",
        "\n",
        "  def __len__(self):                            # Pendefinisian ini dilakukan agar objek dari kelas stack dapat dihitung jumlah elemennya menggunakan metode len().\n",
        "    return self._size\n",
        "\n",
        "  def isempty(self):                            # Digunakan untuk memeriksa apakah stack kosong atau tidak\n",
        "    return self._data.isempty()\n",
        "\n",
        "  def push(self, item):                         # Inisialisasi fungsi Push (berguna untuk menambah elemen baru ke dalam stack pada posisi terakhir)\n",
        "    self._data.enqueu(item)\n",
        "    self._size -= 1\n",
        "\n",
        "    for i in range(self._size-1):\n",
        "      self._data.enqueu(self._data.dequeue())\n",
        "\n",
        "  def pop(self):                                # Inisialisasi fungsi Pop (berguna untuk mengambil elemen terakhir dan menghapusnya dari dalam stack)\n",
        "    if self.isempty():\n",
        "      raise Exception('stack kosong')           # exception berguna agar program tidak dilanjutkan ketika eror\n",
        "\n",
        "    self._size -= 1\n",
        "    return self._data.dequeue()\n",
        "\n",
        "  def top(self):                                # Inisialisasi fungsi Top (berguna untuk mengecek posisi atas)\n",
        "    if self.isempty():\n",
        "      raise Exception('stack kosong')\n",
        "\n",
        "    return self._data.first()"
      ],
      "metadata": {
        "id": "tI7y5BJmcmlj"
      },
      "execution_count": 17,
      "outputs": []
    },
    {
      "cell_type": "code",
      "source": [
        "SQ = Stackwithqueue()                 # Pendefinisian variabel SQ sebagai Stackwithqueu\n",
        "\n",
        "for i in range(10):                   # Membuat tumpukan dengan range 10\n",
        "  SQ.push(i)                          # Memasukkan elemen ke dalam stack\n",
        "\n",
        "while not SQ.isempty():               # Mengecek apakah StackWithQueue kosong atau tidak, jika tidak maka \n",
        "  print(SQ.top(), SQ.pop())           # Mencetak output dari StackWithQueue "
      ],
      "metadata": {
        "colab": {
          "base_uri": "https://localhost:8080/"
        },
        "id": "2yH-bdrvfj8Y",
        "outputId": "d42abdb4-ddd2-41d7-cb09-d3572ca61582"
      },
      "execution_count": 18,
      "outputs": [
        {
          "output_type": "stream",
          "name": "stdout",
          "text": [
            "0 0\n",
            "1 1\n",
            "2 2\n",
            "3 3\n",
            "4 4\n",
            "5 5\n",
            "6 6\n",
            "7 7\n",
            "8 8\n",
            "9 9\n"
          ]
        }
      ]
    },
    {
      "cell_type": "markdown",
      "source": [
        "### 2. Mengacu pada soal Jurnal nomor 4, buatlah program Deque ADT yang dapat menggambarkan proses step by step ketika penambahan elemen secara add_first dan add_last! **Hint: Buat sebuah array pada self._data yang berisikan None. Outputnya seperti berikut: [GAMBAR WKWK]**"
      ],
      "metadata": {
        "id": "GYSzcwJMddRj"
      }
    },
    {
      "cell_type": "code",
      "source": [
        "class dequeue:                  # Mmembuat class dequeue\n",
        "  def __init__(self):           # Pendefinisian yang digunakan untuk melakukan inisialisasi pembuatan object dari class tertentu dan dapat juga ditambah argument lain\n",
        "    self._data = [None]*10\n",
        "    self._size = 0\n",
        "  \n",
        "  def __len__(self):            # Pendefinisian ini dilakukan agar objek dari kelas stack dapat dihitung jumlah elemennya menggunakan metode len()\n",
        "    return self._size\n",
        "\n",
        "  def isempty(self):            # Digunakan untuk memeriksa apakah stack kosong atau tidak\n",
        "    return len(self._data) == 0\n",
        "  \n",
        "  @property # Sebagai Decorator\n",
        "  def view(self):\n",
        "    return self._data\n",
        " \n",
        "  def first(self):              # Mendefinisikan fungsi\n",
        "    return self._data[0]\n",
        "  \n",
        "  def last(self):\n",
        "    return self._data[-1]\n",
        "  \n",
        "  def add_first(self,item):     # Mendefinisikan fungsi yang digunakan untuk menambahkan elemen secara add_first            \n",
        "    if (None in self._data) == False:\n",
        "      self._data = self._data + ([None]*10)\n",
        "    for i in range(len(self._data), 0, -1):\n",
        "      if self._data[i-1] == None:\n",
        "        self._data[i-1] = item\n",
        "        break\n",
        "    self._size += 1\n",
        "    return self._data\n",
        "  \n",
        "  def add_last(self,item):      # Mendefinisikan fungsi yang digunakan untuk menambahkan elemen secara add_last \n",
        "    if (None in self._data) == False:\n",
        "      self._data = self._data + ([None]*10)\n",
        "    for i in range(len(self._data)):\n",
        "      if self._data[i] == None:\n",
        "        self._data[i] = item\n",
        "        break\n",
        "    self._size += 1\n",
        "    return self._data\n",
        "\n",
        "  def delete_first(self):\n",
        "    if self.isempty():                 # Digunakan untuk memeriksa apakah stack kosong atau tidak\n",
        "      raise Exception('Stack kosong')  # exception berguna agar program tidak dilanjutkan ketika eror\n",
        "    else:\n",
        "      self._size -= 1\n",
        "      return self._data.pop(0)\n",
        "\n",
        "  def delete_last(self):\n",
        "    if self.isempty():\n",
        "      raise Exception('queue kosong')\n",
        "    else:\n",
        "      self._size -= 1\n",
        "      return self._data.pop()"
      ],
      "metadata": {
        "id": "cloqoklKdl_Y"
      },
      "execution_count": 19,
      "outputs": []
    },
    {
      "cell_type": "code",
      "source": [
        "data = dequeue()             # Mendefinisikan variabel data sebagai sebuah dequeue\n",
        "\n",
        "print(\"Adding Last\")         # Mencetak tulisan Adding First\n",
        "for i in range(10):          # Memisalkan nilai i dengan range tertentu\n",
        "  print(i ,data.add_last(i)) # Mencetak nilai pada variabel i dengan berisikan data add_last\n",
        "\n",
        "print(\"Adding first\")         # Mencetak tulisan Adding First\n",
        "for i in range(20, 10, -1):   # Memisalkan nilai i dengan range tertentu\n",
        "  print(i ,data.add_first(i)) # Mencetak nilai pada variabel i dengan berisikan data add_first\n"
      ],
      "metadata": {
        "colab": {
          "base_uri": "https://localhost:8080/"
        },
        "id": "ivqkdMhm7Dno",
        "outputId": "b1f8aeb2-9fdd-4da2-b69d-521141fc0279"
      },
      "execution_count": 20,
      "outputs": [
        {
          "output_type": "stream",
          "name": "stdout",
          "text": [
            "Adding Last\n",
            "0 [0, None, None, None, None, None, None, None, None, None]\n",
            "1 [0, 1, None, None, None, None, None, None, None, None]\n",
            "2 [0, 1, 2, None, None, None, None, None, None, None]\n",
            "3 [0, 1, 2, 3, None, None, None, None, None, None]\n",
            "4 [0, 1, 2, 3, 4, None, None, None, None, None]\n",
            "5 [0, 1, 2, 3, 4, 5, None, None, None, None]\n",
            "6 [0, 1, 2, 3, 4, 5, 6, None, None, None]\n",
            "7 [0, 1, 2, 3, 4, 5, 6, 7, None, None]\n",
            "8 [0, 1, 2, 3, 4, 5, 6, 7, 8, None]\n",
            "9 [0, 1, 2, 3, 4, 5, 6, 7, 8, 9]\n",
            "Adding first\n",
            "20 [0, 1, 2, 3, 4, 5, 6, 7, 8, 9, None, None, None, None, None, None, None, None, None, 20]\n",
            "19 [0, 1, 2, 3, 4, 5, 6, 7, 8, 9, None, None, None, None, None, None, None, None, 19, 20]\n",
            "18 [0, 1, 2, 3, 4, 5, 6, 7, 8, 9, None, None, None, None, None, None, None, 18, 19, 20]\n",
            "17 [0, 1, 2, 3, 4, 5, 6, 7, 8, 9, None, None, None, None, None, None, 17, 18, 19, 20]\n",
            "16 [0, 1, 2, 3, 4, 5, 6, 7, 8, 9, None, None, None, None, None, 16, 17, 18, 19, 20]\n",
            "15 [0, 1, 2, 3, 4, 5, 6, 7, 8, 9, None, None, None, None, 15, 16, 17, 18, 19, 20]\n",
            "14 [0, 1, 2, 3, 4, 5, 6, 7, 8, 9, None, None, None, 14, 15, 16, 17, 18, 19, 20]\n",
            "13 [0, 1, 2, 3, 4, 5, 6, 7, 8, 9, None, None, 13, 14, 15, 16, 17, 18, 19, 20]\n",
            "12 [0, 1, 2, 3, 4, 5, 6, 7, 8, 9, None, 12, 13, 14, 15, 16, 17, 18, 19, 20]\n",
            "11 [0, 1, 2, 3, 4, 5, 6, 7, 8, 9, 11, 12, 13, 14, 15, 16, 17, 18, 19, 20]\n"
          ]
        }
      ]
    },
    {
      "cell_type": "markdown",
      "source": [
        "### 3. Buatlah sebuah fungsi yang dapat menampilkan hasil permutasi dari sebuah array yang berisikan kombinasi bilangan menggunakan modul Stack yang telah dibuat di kelas!\n",
        "### Output:\n",
        "###[5, 4, 3, 2, 1]\n",
        "###[5, 4, 3, 1, 2]\n",
        "###[5, 4, 2, 3, 1]\n",
        "###[5, 4, 2, 1, 3]\n",
        "###[5, 4, 1, 3, 2]\n",
        "###[5, 4, 1, 2, 3], dst"
      ],
      "metadata": {
        "id": "ZuhHWYkWdmie"
      }
    },
    {
      "cell_type": "code",
      "source": [
        "class Stack:\n",
        "  def __init__(self):                 # Pendefinisian yang digunakan untuk melakukan inisialisasi pembuatan object dari class tertentu dan dapat juga ditambah argument lain\n",
        "    self._data = []\n",
        "    \n",
        "  def __len__(self):                  # Pendefinisian ini dilakukan agar objek dari kelas stack dapat dihitung jumlah elemennya menggunakan metode len().\n",
        "    return len(self._data)\n",
        "\n",
        "  def isempty(self):                  # Digunakan untuk memeriksa apakah stack kosong atau tidak\n",
        "    return len(self._data) == 0\n",
        "  \n",
        "  @property #sebagai decorator\n",
        "  def view(self):\n",
        "    return self._data\n",
        "\n",
        "  def push(self,item):                # Inisialisasi fungsi Push (berguna untuk menambah elemen baru ke dalam stack pada posisi terakhir)\n",
        "    self._data.append(item)\n",
        "\n",
        "  def pop(self):                      # Inisialisasi fungsi Pop (berguna untuk mengambil elemen terakhir dan menghapusnya dari dalam stack)\n",
        "    if self.isempty():\n",
        "      raise Exception('Stack kosong') # exception berguna agar program tidak dilanjutkan ketika eror\n",
        "    return self._data.pop()\n",
        "\n",
        "  def top(self):                      #Inisialisasi fungsi Top (berguna untuk mengecek posisi atas)\n",
        "    if self.isempty():\n",
        "      raise Exception('Stack kosong')\n",
        "    return self._data[-1]"
      ],
      "metadata": {
        "id": "2V0tq4iLgoZD"
      },
      "execution_count": 21,
      "outputs": []
    },
    {
      "cell_type": "code",
      "source": [
        "def permutasi(arr):       # mendefinisikan fungsi permutasi dengan array\n",
        "  if len(arr) == 0:       # berfungsi untuk mengembalikan panjang (jumlah anggota array)\n",
        "    return []             # berfungsi untuk melakukan perulangan (mengembalikan)\n",
        "  if len(arr) == 1:\n",
        "    return [arr]\n",
        "  p = []\n",
        "  for i in range(len(arr)):\n",
        "    a = arr[i]\n",
        "    b = arr[:i]+arr[i+1:]\n",
        "    for k in permutasi(b):\n",
        "      p.append([a]+k)      # Append berfungsi untuk menambahkan sesuatu\n",
        "  return p                 # mereturn/mengulang permutasi\n",
        "#Pokoknya gitulah kak wkwk"
      ],
      "metadata": {
        "id": "UzXr6rEn7Sgp"
      },
      "execution_count": 22,
      "outputs": []
    },
    {
      "cell_type": "code",
      "source": [
        "data = Stack()                   # Pendefinisian variabel Data sebagai sebuah stack dengan memasukkan nilai tertentu\n",
        "for i in range(5, 0, -1):        # Membuat tumpukan dengan range kombinasi nilai tertentu\n",
        "  data.push(i)                   # Memasukkan elemen ke dalam stack\n",
        "\n",
        "for i in permutasi(data.view):   # Nilai pada variabel i dicetak dalam bentuk permutasi\n",
        "  print(i)                       # Mencetak outputan untuk nilai pada i"
      ],
      "metadata": {
        "colab": {
          "base_uri": "https://localhost:8080/"
        },
        "id": "QxxAk3Lf7Xf0",
        "outputId": "7b0a7cef-2000-43c8-fda2-d8069f25f6cb"
      },
      "execution_count": 23,
      "outputs": [
        {
          "output_type": "stream",
          "name": "stdout",
          "text": [
            "[5, 4, 3, 2, 1]\n",
            "[5, 4, 3, 1, 2]\n",
            "[5, 4, 2, 3, 1]\n",
            "[5, 4, 2, 1, 3]\n",
            "[5, 4, 1, 3, 2]\n",
            "[5, 4, 1, 2, 3]\n",
            "[5, 3, 4, 2, 1]\n",
            "[5, 3, 4, 1, 2]\n",
            "[5, 3, 2, 4, 1]\n",
            "[5, 3, 2, 1, 4]\n",
            "[5, 3, 1, 4, 2]\n",
            "[5, 3, 1, 2, 4]\n",
            "[5, 2, 4, 3, 1]\n",
            "[5, 2, 4, 1, 3]\n",
            "[5, 2, 3, 4, 1]\n",
            "[5, 2, 3, 1, 4]\n",
            "[5, 2, 1, 4, 3]\n",
            "[5, 2, 1, 3, 4]\n",
            "[5, 1, 4, 3, 2]\n",
            "[5, 1, 4, 2, 3]\n",
            "[5, 1, 3, 4, 2]\n",
            "[5, 1, 3, 2, 4]\n",
            "[5, 1, 2, 4, 3]\n",
            "[5, 1, 2, 3, 4]\n",
            "[4, 5, 3, 2, 1]\n",
            "[4, 5, 3, 1, 2]\n",
            "[4, 5, 2, 3, 1]\n",
            "[4, 5, 2, 1, 3]\n",
            "[4, 5, 1, 3, 2]\n",
            "[4, 5, 1, 2, 3]\n",
            "[4, 3, 5, 2, 1]\n",
            "[4, 3, 5, 1, 2]\n",
            "[4, 3, 2, 5, 1]\n",
            "[4, 3, 2, 1, 5]\n",
            "[4, 3, 1, 5, 2]\n",
            "[4, 3, 1, 2, 5]\n",
            "[4, 2, 5, 3, 1]\n",
            "[4, 2, 5, 1, 3]\n",
            "[4, 2, 3, 5, 1]\n",
            "[4, 2, 3, 1, 5]\n",
            "[4, 2, 1, 5, 3]\n",
            "[4, 2, 1, 3, 5]\n",
            "[4, 1, 5, 3, 2]\n",
            "[4, 1, 5, 2, 3]\n",
            "[4, 1, 3, 5, 2]\n",
            "[4, 1, 3, 2, 5]\n",
            "[4, 1, 2, 5, 3]\n",
            "[4, 1, 2, 3, 5]\n",
            "[3, 5, 4, 2, 1]\n",
            "[3, 5, 4, 1, 2]\n",
            "[3, 5, 2, 4, 1]\n",
            "[3, 5, 2, 1, 4]\n",
            "[3, 5, 1, 4, 2]\n",
            "[3, 5, 1, 2, 4]\n",
            "[3, 4, 5, 2, 1]\n",
            "[3, 4, 5, 1, 2]\n",
            "[3, 4, 2, 5, 1]\n",
            "[3, 4, 2, 1, 5]\n",
            "[3, 4, 1, 5, 2]\n",
            "[3, 4, 1, 2, 5]\n",
            "[3, 2, 5, 4, 1]\n",
            "[3, 2, 5, 1, 4]\n",
            "[3, 2, 4, 5, 1]\n",
            "[3, 2, 4, 1, 5]\n",
            "[3, 2, 1, 5, 4]\n",
            "[3, 2, 1, 4, 5]\n",
            "[3, 1, 5, 4, 2]\n",
            "[3, 1, 5, 2, 4]\n",
            "[3, 1, 4, 5, 2]\n",
            "[3, 1, 4, 2, 5]\n",
            "[3, 1, 2, 5, 4]\n",
            "[3, 1, 2, 4, 5]\n",
            "[2, 5, 4, 3, 1]\n",
            "[2, 5, 4, 1, 3]\n",
            "[2, 5, 3, 4, 1]\n",
            "[2, 5, 3, 1, 4]\n",
            "[2, 5, 1, 4, 3]\n",
            "[2, 5, 1, 3, 4]\n",
            "[2, 4, 5, 3, 1]\n",
            "[2, 4, 5, 1, 3]\n",
            "[2, 4, 3, 5, 1]\n",
            "[2, 4, 3, 1, 5]\n",
            "[2, 4, 1, 5, 3]\n",
            "[2, 4, 1, 3, 5]\n",
            "[2, 3, 5, 4, 1]\n",
            "[2, 3, 5, 1, 4]\n",
            "[2, 3, 4, 5, 1]\n",
            "[2, 3, 4, 1, 5]\n",
            "[2, 3, 1, 5, 4]\n",
            "[2, 3, 1, 4, 5]\n",
            "[2, 1, 5, 4, 3]\n",
            "[2, 1, 5, 3, 4]\n",
            "[2, 1, 4, 5, 3]\n",
            "[2, 1, 4, 3, 5]\n",
            "[2, 1, 3, 5, 4]\n",
            "[2, 1, 3, 4, 5]\n",
            "[1, 5, 4, 3, 2]\n",
            "[1, 5, 4, 2, 3]\n",
            "[1, 5, 3, 4, 2]\n",
            "[1, 5, 3, 2, 4]\n",
            "[1, 5, 2, 4, 3]\n",
            "[1, 5, 2, 3, 4]\n",
            "[1, 4, 5, 3, 2]\n",
            "[1, 4, 5, 2, 3]\n",
            "[1, 4, 3, 5, 2]\n",
            "[1, 4, 3, 2, 5]\n",
            "[1, 4, 2, 5, 3]\n",
            "[1, 4, 2, 3, 5]\n",
            "[1, 3, 5, 4, 2]\n",
            "[1, 3, 5, 2, 4]\n",
            "[1, 3, 4, 5, 2]\n",
            "[1, 3, 4, 2, 5]\n",
            "[1, 3, 2, 5, 4]\n",
            "[1, 3, 2, 4, 5]\n",
            "[1, 2, 5, 4, 3]\n",
            "[1, 2, 5, 3, 4]\n",
            "[1, 2, 4, 5, 3]\n",
            "[1, 2, 4, 3, 5]\n",
            "[1, 2, 3, 5, 4]\n",
            "[1, 2, 3, 4, 5]\n"
          ]
        }
      ]
    }
  ]
}