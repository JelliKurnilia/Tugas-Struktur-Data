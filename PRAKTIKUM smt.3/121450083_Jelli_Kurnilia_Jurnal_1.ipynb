{
  "nbformat": 4,
  "nbformat_minor": 0,
  "metadata": {
    "colab": {
      "provenance": []
    },
    "kernelspec": {
      "name": "python3",
      "display_name": "Python 3"
    },
    "language_info": {
      "name": "python"
    }
  },
  "cells": [
    {
      "cell_type": "markdown",
      "source": [
        "JURNAL MODUL 1 PRAKTIKUM STRUKTUR DATA"
      ],
      "metadata": {
        "id": "9mscTpXSGdOo"
      }
    },
    {
      "cell_type": "code",
      "execution_count": null,
      "metadata": {
        "colab": {
          "base_uri": "https://localhost:8080/"
        },
        "id": "yO0wDHCtqNa_",
        "outputId": "78c4cf1a-9505-419e-dc1a-5ec4cdb5ca32"
      },
      "outputs": [
        {
          "output_type": "stream",
          "name": "stdout",
          "text": [
            "Jelli Kurnilia\n",
            "121450083/RC\n"
          ]
        }
      ],
      "source": [
        "#JURNAL MODUL 1 PRAKTIKUM STRUKTUR DATA \n",
        "print(\"Jelli Kurnilia\")\n",
        "print(\"121450083/RC\")"
      ]
    },
    {
      "cell_type": "markdown",
      "source": [
        "NO 1"
      ],
      "metadata": {
        "id": "YG-lNAmpGDMX"
      }
    },
    {
      "cell_type": "code",
      "source": [
        "#NO 1\n",
        "def isMultiple (n,m):\n",
        "    if n%m==0:\n",
        "        return True\n",
        "    else:\n",
        "        return False\n",
        "isMultiple = lambda n,m : n%m == 0\n",
        "isMultiple (7,2)"
      ],
      "metadata": {
        "colab": {
          "base_uri": "https://localhost:8080/"
        },
        "id": "rmgPTR_uqmAM",
        "outputId": "629753cd-20c1-4377-a175-72cb6d9be11d"
      },
      "execution_count": null,
      "outputs": [
        {
          "output_type": "execute_result",
          "data": {
            "text/plain": [
              "False"
            ]
          },
          "metadata": {},
          "execution_count": 2
        }
      ]
    },
    {
      "cell_type": "markdown",
      "source": [
        "NO 2"
      ],
      "metadata": {
        "id": "OSDuPD3bGIwH"
      }
    },
    {
      "cell_type": "code",
      "source": [
        "#NO 2\n",
        "def sumodd (n):\n",
        "    sum=0\n",
        "    k=1\n",
        "    while k < n:\n",
        "        sum = sum + k**2\n",
        "        k += 2 #k = k + 2\n",
        "    return sum\n",
        "\n",
        "sumodd(7)"
      ],
      "metadata": {
        "colab": {
          "base_uri": "https://localhost:8080/"
        },
        "id": "GeslLxmTr3Yj",
        "outputId": "92b8b8f3-abdc-48a9-ee62-0cf91aca589d"
      },
      "execution_count": null,
      "outputs": [
        {
          "output_type": "execute_result",
          "data": {
            "text/plain": [
              "35"
            ]
          },
          "metadata": {},
          "execution_count": 3
        }
      ]
    },
    {
      "cell_type": "markdown",
      "source": [
        "NO 3"
      ],
      "metadata": {
        "id": "-Pt-W_MiGLe_"
      }
    },
    {
      "cell_type": "code",
      "source": [
        "#NO 3\n",
        "def euclidean (p,q):\n",
        "    num = 0\n",
        "    for i in range(len(p)):\n",
        "        num += (p[i]-q[i])**2\n",
        "    return num **0.5\n",
        "\n",
        "euclidean([1,2],[4,5])"
      ],
      "metadata": {
        "colab": {
          "base_uri": "https://localhost:8080/"
        },
        "id": "R-EeRwWRtXsb",
        "outputId": "dc8a3402-4f38-4a03-e906-0dfce78cf127"
      },
      "execution_count": null,
      "outputs": [
        {
          "output_type": "execute_result",
          "data": {
            "text/plain": [
              "4.242640687119285"
            ]
          },
          "metadata": {},
          "execution_count": 4
        }
      ]
    },
    {
      "cell_type": "markdown",
      "source": [
        "NO 4"
      ],
      "metadata": {
        "id": "hRJAt59UGOPY"
      }
    },
    {
      "cell_type": "code",
      "source": [
        "#NO 4\n",
        "def MinMax (a) :\n",
        "    for i in range (len(a)-1):\n",
        "        for j in range (i+1, len(a)):\n",
        "            if a[i] >a [j]:\n",
        "                temp = a[i]\n",
        "                a[i] = a[j]\n",
        "                a[j] = temp\n",
        "    print (\"Bilangan Terkecil :\", a[0])\n",
        "    print (\"Bilangan Terbesar :\", a[-1])\n",
        "\n",
        "angka = [11,25,98,54,78,2]\n",
        "\n",
        "MinMax (angka)\n"
      ],
      "metadata": {
        "colab": {
          "base_uri": "https://localhost:8080/"
        },
        "id": "MmNJRX_muHZG",
        "outputId": "92cac416-9665-43b2-9faa-9f2b65390c3a"
      },
      "execution_count": null,
      "outputs": [
        {
          "output_type": "stream",
          "name": "stdout",
          "text": [
            "Bilangan Terkecil : 2\n",
            "Bilangan Terbesar : 98\n"
          ]
        }
      ]
    },
    {
      "cell_type": "markdown",
      "source": [
        "NO 5"
      ],
      "metadata": {
        "id": "Pg3WH2FvGP8I"
      }
    },
    {
      "cell_type": "code",
      "source": [
        "#NO 5\n",
        "def reverseArray (a):\n",
        "    if len(a)%2 == 0:\n",
        "      mid = (len(a))//2\n",
        "      for i in range (0,mid):\n",
        "          temp = a[i]\n",
        "          a[i] = a[-i-1]\n",
        "          a[-i-1] = temp\n",
        "\n",
        "    else :\n",
        "      mid = len(a)//2\n",
        "      for i in range (mid):\n",
        "          temp = a[i]\n",
        "          a[i] = a[-i-1]\n",
        "          a[-i-1] = temp\n",
        "\n",
        "    return a\n",
        "print(reverseArray([1,2,3,4,5,6,7,8,9,10]))\n"
      ],
      "metadata": {
        "colab": {
          "base_uri": "https://localhost:8080/"
        },
        "id": "wo9nRbp6vXHP",
        "outputId": "9f93f2d1-1c98-4537-8ab4-ab7c1a225abd"
      },
      "execution_count": null,
      "outputs": [
        {
          "output_type": "stream",
          "name": "stdout",
          "text": [
            "[10, 9, 8, 7, 6, 5, 4, 3, 2, 1]\n"
          ]
        }
      ]
    },
    {
      "cell_type": "markdown",
      "source": [
        "NO 6"
      ],
      "metadata": {
        "id": "Wjz2sZB_GSYr"
      }
    },
    {
      "cell_type": "code",
      "source": [
        "#NO 6\n",
        "class newbie :\n",
        "  def __init__(self):\n",
        "    self.halo = 'Hallo world'\n",
        "  def display(self):\n",
        "      return self.halo\n",
        "\n",
        "obj = newbie()\n",
        "obj.display()"
      ],
      "metadata": {
        "colab": {
          "base_uri": "https://localhost:8080/",
          "height": 35
        },
        "id": "OUJHWiDBwrh0",
        "outputId": "ae7e1ac5-8ba1-43a6-c914-9770ce65d87b"
      },
      "execution_count": null,
      "outputs": [
        {
          "output_type": "execute_result",
          "data": {
            "text/plain": [
              "'Hallo world'"
            ],
            "application/vnd.google.colaboratory.intrinsic+json": {
              "type": "string"
            }
          },
          "metadata": {},
          "execution_count": 7
        }
      ]
    },
    {
      "cell_type": "markdown",
      "source": [
        "NO 7"
      ],
      "metadata": {
        "id": "5kGtucM9GUIY"
      }
    },
    {
      "cell_type": "code",
      "source": [
        "#NO 7\n",
        "class aritmatika :\n",
        "  def __init__(self, a, b):\n",
        "      self.a = a\n",
        "      self.b = b\n",
        "\n",
        "  def tambah(self):\n",
        "      self.answer = self.a + self.b\n",
        "\n",
        "  def kurang(self):\n",
        "      self.answer = self.a - self.b\n",
        "\n",
        "  def kali(self):\n",
        "      self.answer = self.a * self.b\n",
        "\n",
        "  def bagi(self):\n",
        "      self.answer = self.a / self.b\n",
        "    \n",
        "  def display(self):\n",
        "      print(\"angka pertama : \"+ str(self.a))\n",
        "      print(\"angka kedua : \"+ str(self.b))\n",
        "      print(\"hasil : \"+ str(self.answer))\n",
        "\n",
        "obj = aritmatika(2,5)\n",
        "\n",
        "obj.tambah()\n",
        "obj.display()"
      ],
      "metadata": {
        "colab": {
          "base_uri": "https://localhost:8080/"
        },
        "id": "yXHKKnMAxUAq",
        "outputId": "b179142a-5525-4b5b-fc07-fb66c92e07c3"
      },
      "execution_count": null,
      "outputs": [
        {
          "output_type": "stream",
          "name": "stdout",
          "text": [
            "angka pertama : 2\n",
            "angka kedua : 5\n",
            "hasil : 7\n"
          ]
        }
      ]
    },
    {
      "cell_type": "markdown",
      "source": [
        "NO 8"
      ],
      "metadata": {
        "id": "gdcTpSZbGW2Q"
      }
    },
    {
      "cell_type": "code",
      "source": [
        "#NO 8\n",
        "class MenuKantin :\n",
        "  def __init__(self,nama,harga) :\n",
        "      self.nama = nama\n",
        "      self.harga = harga\n",
        "      return\n",
        "\n",
        "menu1 = MenuKantin('Batagor', 5000)\n",
        "menu2 = MenuKantin('Ayam Geprek', 10000)\n",
        "menu3 = MenuKantin('Seblak Jebred', 15000)\n",
        "menu4 = MenuKantin('Roti Bakar', 5000)\n",
        "\n",
        "pilihan_menu = [menu1, menu2, menu3, menu4]\n",
        "\n",
        "print('Daftar Menu Kantin : ')\n",
        "for mn in pilihan_menu:\n",
        "    t = '{} : Rp. {}'.format(mn.nama, mn.harga)\n",
        "    print(t)"
      ],
      "metadata": {
        "colab": {
          "base_uri": "https://localhost:8080/"
        },
        "id": "lD03PhDQyyVb",
        "outputId": "d299f70d-ea97-4cdd-f0a7-80f1f633cc88"
      },
      "execution_count": null,
      "outputs": [
        {
          "output_type": "stream",
          "name": "stdout",
          "text": [
            "Daftar Menu Kantin : \n",
            "Batagor : Rp. 5000\n",
            "Ayam Geprek : Rp. 10000\n",
            "Seblak Jebred : Rp. 15000\n",
            "Roti Bakar : Rp. 5000\n"
          ]
        }
      ]
    },
    {
      "cell_type": "markdown",
      "source": [
        "NO 9"
      ],
      "metadata": {
        "id": "DewkrxSCGYjA"
      }
    },
    {
      "cell_type": "code",
      "source": [
        "#NO 9\n",
        "#jawaban\n",
        "class NilaiMataKuliah:\n",
        "  def __init__(self,nama,mata_kuliah,nilai_hadir,nilai_project,nilai_uts,nilai_uas):\n",
        "      self.nama = nama\n",
        "      self.mata_kuliah = mata_kuliah\n",
        "      self.nilai_hadir = nilai_hadir\n",
        "      self.nilai_project = nilai_project\n",
        "      self.nilai_uts = nilai_uts\n",
        "      self.nilai_uas = nilai_uas\n",
        "\n",
        "  def hitung_nilai_akhir(self):\n",
        "      bobot_hadir = 0.1\n",
        "      bobot_project = 0.3\n",
        "      bobot_uts = 0.3\n",
        "      bobot_uas = 0.3\n",
        "      nilai_akhir = bobot_hadir * self.nilai_hadir + bobot_project * self.nilai_project + bobot_uts * self.nilai_uts + bobot_uas * self.nilai_uas\n",
        "      return nilai_akhir\n",
        "\n",
        "\n",
        "  def grade_nilai(self):\n",
        "      nilai_akhir = self.hitung_nilai_akhir()\n",
        "      if nilai_akhir >= 85:\n",
        "         grade = 'A'\n",
        "      elif nilai_akhir >= 70:\n",
        "         grade = 'B'\n",
        "      elif nilai_akhir >= 50:\n",
        "         grade = 'C'\n",
        "      elif nilai_akhir >= 40:\n",
        "         grade = 'D'\n",
        "      else:\n",
        "        grade = 'E'\n",
        "      return grade\n",
        "\n",
        "obj = NilaiMataKuliah('Jelli Kurnilia','Struktur Data',90,80,70,60)\n",
        "nilai_akhir = obj.hitung_nilai_akhir()\n",
        "grade = obj.grade_nilai()\n",
        "\n",
        "print('{} pada mata kuliah {} mendapatkan nilai akhir = {}, grade = {}'.format(obj.nama,obj.mata_kuliah,nilai_akhir,grade))"
      ],
      "metadata": {
        "colab": {
          "base_uri": "https://localhost:8080/"
        },
        "id": "zToQlrDi0Z5s",
        "outputId": "9f2aafc8-5a08-4b0e-e29b-3c9831941a30"
      },
      "execution_count": null,
      "outputs": [
        {
          "output_type": "stream",
          "name": "stdout",
          "text": [
            "Jelli Kurnilia pada mata kuliah Struktur Data mendapatkan nilai akhir = 72.0, grade = B\n"
          ]
        }
      ]
    }
  ]
}