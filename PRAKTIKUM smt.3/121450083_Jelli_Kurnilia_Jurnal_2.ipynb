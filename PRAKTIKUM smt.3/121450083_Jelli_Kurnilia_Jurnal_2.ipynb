{
  "nbformat": 4,
  "nbformat_minor": 0,
  "metadata": {
    "colab": {
      "provenance": []
    },
    "kernelspec": {
      "name": "python3",
      "display_name": "Python 3"
    },
    "language_info": {
      "name": "python"
    }
  },
  "cells": [
    {
      "cell_type": "markdown",
      "source": [
        "### **JELLI KURNILIA**\n",
        "### **121450083**\n",
        "### **PRAKTIKUM STRUKDAT (RC)**"
      ],
      "metadata": {
        "id": "_dHLkLSjhZ5j"
      }
    },
    {
      "cell_type": "markdown",
      "source": [
        "# 1. Buat sebuah fungsi yang berguna untuk memindahkan elemen-elemen dari sebuah stack ke stack lain"
      ],
      "metadata": {
        "id": "y3LxBE9oguVU"
      }
    },
    {
      "cell_type": "code",
      "source": [
        "class Stack:\n",
        "  def __init__(self):\n",
        "    self._data = []\n",
        "\n",
        "  def __len__(self):\n",
        "    return len(self._data)\n",
        "\n",
        "  def isempty(self):\n",
        "    return len(self._data) == 0\n",
        "\n",
        "  @property #sebagai decorator\n",
        "  def view(self):\n",
        "    return self._data\n",
        "\n",
        "  def push(self, item): #Inisialisasi fungsi Push\n",
        "    self._data.append(item)   #Append berfungsi untuk menambahkan sesuatu\n",
        "\n",
        "  def pop(self):  #Inisialisasi fungsi Pop\n",
        "    if self.isempty():\n",
        "      raise Exception(\"stack kosong\")  #exception berguna agar program tidak dilanjutkan ketika eror\n",
        "    return self._data.pop()\n",
        "\n",
        "  def top(self):  #Inisialisasi fungsi Top (berguna untuk mengecek posisi atas)\n",
        "    if self.isempty():\n",
        "      raise Exception(\"stack kosong\")\n",
        "    return self._data[-1]\n",
        "\n",
        "#DARI CODE INI MEMANG NGGAK MUNCULIN OUTPUT YGY :)"
      ],
      "metadata": {
        "id": "EqwM_9XOg95g"
      },
      "execution_count": 20,
      "outputs": []
    },
    {
      "cell_type": "code",
      "execution_count": 21,
      "metadata": {
        "id": "dpc_33muV5_7"
      },
      "outputs": [],
      "source": [
        "def transfer(S,T):\n",
        "  while not S.isempty():\n",
        "    T.push(S.pop())  \n",
        "\n",
        "  return(S,T)"
      ]
    },
    {
      "cell_type": "code",
      "source": [
        "S, T = Stack(), Stack()\n",
        "\n",
        "for i in range(10):\n",
        "  S.push(i)\n",
        "\n",
        "print(\"kondisi S di stack adalah\", S.view)\n",
        "transfer(S,T)\n",
        "print(\"kondisi T di stack adalah\", T.view)\n"
      ],
      "metadata": {
        "colab": {
          "base_uri": "https://localhost:8080/"
        },
        "id": "HQ8lHyTUkwoL",
        "outputId": "262bf1da-fefa-450d-b922-5875fc4f9f91"
      },
      "execution_count": 22,
      "outputs": [
        {
          "output_type": "stream",
          "name": "stdout",
          "text": [
            "kondisi S di stack adalah [0, 1, 2, 3, 4, 5, 6, 7, 8, 9]\n",
            "kondisi T di stack adalah [9, 8, 7, 6, 5, 4, 3, 2, 1, 0]\n"
          ]
        }
      ]
    },
    {
      "cell_type": "markdown",
      "source": [
        "# 2. buat sebuah fungsi rekursif yang berguna untuk menghapus semua elemen stack"
      ],
      "metadata": {
        "id": "8eiSajOFo8aV"
      }
    },
    {
      "cell_type": "code",
      "source": [
        "class Stack_recursive:\n",
        "    def __init__(self):\n",
        "        self._data = []\n",
        "        \n",
        "    def __len__(self):\n",
        "        return len(self._data)\n",
        "    \n",
        "    def isempty(self):\n",
        "        return len(self._data) == 0\n",
        "    \n",
        "    @property\n",
        "    def view(self):\n",
        "        return self._data\n",
        "    \n",
        "    def push(self, item):\n",
        "        self._data.append(item)\n",
        "        \n",
        "    def pop(self):\n",
        "        if self.isempty():\n",
        "            raise Exception('Stack kosong')\n",
        "        return self._data.pop()\n",
        "    \n",
        "    def top(self):\n",
        "        if self.isempty():\n",
        "            raise Exception('Stack kosong')\n",
        "        return self._data[-1]\n",
        "    \n",
        "    def full_pop(self):\n",
        "        ans = []\n",
        "        while not self.isempty():\n",
        "            ans.append(self.pop())\n",
        "        return ans\n",
        "    \n",
        "    def pop_recrs(self): #ini fungsi rekursif (gunanya untuk menjalankan fungsi didalam fungsi)\n",
        "        if self.view:\n",
        "            self.pop()\n",
        "            return self.pop_recrs()\n"
      ],
      "metadata": {
        "id": "pe0OBjTWsw_0"
      },
      "execution_count": 37,
      "outputs": []
    },
    {
      "cell_type": "code",
      "source": [
        "S = Stack_recursive()\n",
        "\n",
        "for i in range(20):\n",
        "    S.push(i)\n",
        "    \n",
        "S.view\n"
      ],
      "metadata": {
        "colab": {
          "base_uri": "https://localhost:8080/"
        },
        "id": "2fe6umGsqEgq",
        "outputId": "792f1b1f-c732-46ed-ccdc-df04aad6da64"
      },
      "execution_count": 40,
      "outputs": [
        {
          "output_type": "execute_result",
          "data": {
            "text/plain": [
              "[0, 1, 2, 3, 4, 5, 6, 7, 8, 9, 10, 11, 12, 13, 14, 15, 16, 17, 18, 19]"
            ]
          },
          "metadata": {},
          "execution_count": 40
        }
      ]
    },
    {
      "cell_type": "code",
      "source": [
        "S.pop_recrs()\n",
        "S.view\n"
      ],
      "metadata": {
        "colab": {
          "base_uri": "https://localhost:8080/"
        },
        "id": "Iid9D9wTqaNS",
        "outputId": "c600a676-cdd6-42d3-9744-2dc410d68720"
      },
      "execution_count": 41,
      "outputs": [
        {
          "output_type": "execute_result",
          "data": {
            "text/plain": [
              "[]"
            ]
          },
          "metadata": {},
          "execution_count": 41
        }
      ]
    },
    {
      "cell_type": "markdown",
      "source": [
        "# 3. Memodifikasi kelas stack sehingga dapat mereverse elemen\n"
      ],
      "metadata": {
        "id": "WuWFgnC1uc-d"
      }
    },
    {
      "cell_type": "code",
      "source": [
        "class Stack_reverse:\n",
        "  \n",
        "  def __init__(self):\n",
        "    self._data = []\n",
        "  \n",
        "  def __len__(self):\n",
        "    return len(self._data) \n",
        "  \n",
        "  def isempty(self):\n",
        "    return len(self._data) == 0\n",
        "  \n",
        "  @property\n",
        "  def view(self):\n",
        "    return self._data\n",
        "  \n",
        "  def push(self, item):\n",
        "    self._data.append(item)\n",
        "  \n",
        "  def pop(self):\n",
        "    if self.isempty():\n",
        "      raise Exception(\"stack kosong\")\n",
        "    return self._data.pop()\n",
        "\n",
        "  def top(self):\n",
        "    if self.isempty():\n",
        "      raise Exception(\"stack kosong\")\n",
        "    return self._data[-1]\n",
        "  \n",
        "  def reverse(self):\n",
        "    ans = []\n",
        "    while not self.isempty():\n",
        "      ans.append(self.pop())\n",
        "    return ans "
      ],
      "metadata": {
        "id": "wdetRc8JumWc"
      },
      "execution_count": 108,
      "outputs": []
    },
    {
      "cell_type": "code",
      "source": [
        "a = Stack_reverse()\n",
        "for i in range(10):\n",
        "  a.push(i)\n",
        "a.view"
      ],
      "metadata": {
        "colab": {
          "base_uri": "https://localhost:8080/"
        },
        "id": "JKO2s88xvTFo",
        "outputId": "7ef2e552-b453-42ae-e0d5-2ca8ad3c6d61"
      },
      "execution_count": 110,
      "outputs": [
        {
          "output_type": "execute_result",
          "data": {
            "text/plain": [
              "[0, 1, 2, 3, 4, 5, 6, 7, 8, 9]"
            ]
          },
          "metadata": {},
          "execution_count": 110
        }
      ]
    },
    {
      "cell_type": "code",
      "source": [
        "a.reverse()\n"
      ],
      "metadata": {
        "colab": {
          "base_uri": "https://localhost:8080/"
        },
        "id": "pO_1xlL_xuBg",
        "outputId": "ff8e74dc-24d9-43a9-c6be-c54184ac1923"
      },
      "execution_count": 111,
      "outputs": [
        {
          "output_type": "execute_result",
          "data": {
            "text/plain": [
              "[9, 8, 7, 6, 5, 4, 3, 2, 1, 0]"
            ]
          },
          "metadata": {},
          "execution_count": 111
        }
      ]
    },
    {
      "cell_type": "markdown",
      "source": [
        "# 4 buatlah fungsi Dequeu yang berisi first, last, add_first, add_last, delete_first,delete_last. lalu lakukan operasi seperti tabel dibawah dan cocokkan hasilnya"
      ],
      "metadata": {
        "id": "YPerJgYDytuS"
      }
    },
    {
      "cell_type": "code",
      "source": [
        "class Dequeu:\n",
        "\n",
        "  def __init__(self):\n",
        "    self._data = []\n",
        "    self._size = 0 \n",
        "\n",
        "  def __len__(self):\n",
        "    return self._size\n",
        "\n",
        "  @property\n",
        "  def view(self):\n",
        "    return self._data\n",
        "\n",
        "  def first(self):\n",
        "    return self._data[0]\n",
        "\n",
        "  def add_first(self, item):\n",
        "    self._data.append(item)\n",
        "    self._data.insert(0,self._data.pop())\n",
        "    self._size += 1\n",
        "\n",
        "  def last(self):\n",
        "    return self._data[-1]\n",
        "\n",
        "  def add_last(self, item):\n",
        "    self._data.append(item)\n",
        "    self._size +=1\n",
        "\n",
        "  def isempty(self):\n",
        "    return self._size == 0\n",
        "\n",
        "  def delete_first(self):\n",
        "    if self.isempty():\n",
        "      raise Exception(\"queue kosong\")\n",
        "    else :\n",
        "      self._size -= 1\n",
        "      return self._data.pop(0)\n",
        "  \n",
        "  def delete_last(self):\n",
        "    if self.isempty():\n",
        "      raise Exception(\"queue kosong\")\n",
        "    else :\n",
        "      self._size -= 1\n",
        "      return self._data.pop()"
      ],
      "metadata": {
        "id": "70e79hk8zBjJ"
      },
      "execution_count": 86,
      "outputs": []
    },
    {
      "cell_type": "code",
      "source": [
        "D = Dequeu()\n",
        "\n",
        "D.add_last(5)\n",
        "D.add_first(3)\n",
        "D.add_first(7)\n",
        "\n",
        "print(D.first())\n",
        "print(D.last())\n",
        "print(D.delete_last())\n"
      ],
      "metadata": {
        "colab": {
          "base_uri": "https://localhost:8080/"
        },
        "id": "CTL5ikaf1tg6",
        "outputId": "446f4160-204a-4856-ca53-a0510da935e4"
      },
      "execution_count": 87,
      "outputs": [
        {
          "output_type": "stream",
          "name": "stdout",
          "text": [
            "7\n",
            "5\n",
            "5\n"
          ]
        }
      ]
    },
    {
      "cell_type": "code",
      "source": [
        "len(D)"
      ],
      "metadata": {
        "colab": {
          "base_uri": "https://localhost:8080/"
        },
        "id": "9v_7Lqc348FD",
        "outputId": "0d3c528a-945c-4e49-f5a0-27d3c07efd74"
      },
      "execution_count": 88,
      "outputs": [
        {
          "output_type": "execute_result",
          "data": {
            "text/plain": [
              "2"
            ]
          },
          "metadata": {},
          "execution_count": 88
        }
      ]
    },
    {
      "cell_type": "code",
      "source": [
        "D.delete_last()"
      ],
      "metadata": {
        "colab": {
          "base_uri": "https://localhost:8080/"
        },
        "id": "0Vpez0W-6S0-",
        "outputId": "b69ed6ce-949e-4a71-e3de-c2431e2e7656"
      },
      "execution_count": 89,
      "outputs": [
        {
          "output_type": "execute_result",
          "data": {
            "text/plain": [
              "3"
            ]
          },
          "metadata": {},
          "execution_count": 89
        }
      ]
    },
    {
      "cell_type": "code",
      "source": [
        "D.delete_last()"
      ],
      "metadata": {
        "colab": {
          "base_uri": "https://localhost:8080/"
        },
        "id": "MUUZfRlV6bx_",
        "outputId": "5e80bdd1-ed19-48e7-c744-aa45a06c6f91"
      },
      "execution_count": 90,
      "outputs": [
        {
          "output_type": "execute_result",
          "data": {
            "text/plain": [
              "7"
            ]
          },
          "metadata": {},
          "execution_count": 90
        }
      ]
    },
    {
      "cell_type": "code",
      "source": [
        "D.add_first(8)\n",
        "D.isempty()"
      ],
      "metadata": {
        "colab": {
          "base_uri": "https://localhost:8080/"
        },
        "id": "WM6kRt_z6fY_",
        "outputId": "bdd10221-d394-4737-ae20-8f5fef84c284"
      },
      "execution_count": 92,
      "outputs": [
        {
          "output_type": "execute_result",
          "data": {
            "text/plain": [
              "False"
            ]
          },
          "metadata": {},
          "execution_count": 92
        }
      ]
    },
    {
      "cell_type": "code",
      "source": [
        "D.last()"
      ],
      "metadata": {
        "colab": {
          "base_uri": "https://localhost:8080/"
        },
        "id": "jRqF-V_J6tMG",
        "outputId": "570555b4-f0cd-49bc-b100-628d1b19cd0d"
      },
      "execution_count": 93,
      "outputs": [
        {
          "output_type": "execute_result",
          "data": {
            "text/plain": [
              "8"
            ]
          },
          "metadata": {},
          "execution_count": 93
        }
      ]
    },
    {
      "cell_type": "markdown",
      "source": [
        "# 5. Buatlah sebuah fungsi yang dapat mengecek pasangan tanda kurung menggunakan metode stack Queue ADT. Jelaskan prosesnya!\n"
      ],
      "metadata": {
        "id": "5cPM8E4e6vmE"
      }
    },
    {
      "cell_type": "code",
      "source": [
        "def cek_tada_kurung(tanda_kurung): #inisialisasi fungsi untuk mengecek tanda kurung\n",
        "  item = {'(': ')'} # inisialisasi variabel item yang berisi tanda kurung\n",
        "  stack = [] # membaca urutan \n",
        "  for c in '((())': # cek parameter yang akan dimasukkan\n",
        "    if c == '(':\n",
        "      stack.append(c) #menambahkan elemen pada puncak stack sesuai dengan hasil dari parameter yang di cek sebelumnya\n",
        "    \n",
        "    elif stack and c == item[stack[-1]]: # mengecek kondisi (tanda kurung) pada stack\n",
        "      stack.pop() #menghapus elemen yang tidak sesuai dari stack \n",
        "\n",
        "    else: #selain itu maka di print false\n",
        "        return False \n",
        "    return len(stack) == 0 #Mengembalikan panjang stack"
      ],
      "metadata": {
        "id": "2e5k1Nb96wQu"
      },
      "execution_count": 117,
      "outputs": []
    },
    {
      "cell_type": "markdown",
      "source": [
        "# 6. Implementasikan stack ADT menggunakan queue sebagai variabel instance\n"
      ],
      "metadata": {
        "id": "Xx9V9vgA8vWP"
      }
    },
    {
      "cell_type": "code",
      "source": [
        "class Queue:\n",
        "  def __init__(self):\n",
        "    self._data = []\n",
        "    self._size = 0\n",
        "\n",
        "  def __len__(self):\n",
        "    return self._size\n",
        "\n",
        "  def isempty(self):\n",
        "    return self._size == 0\n",
        "  \n",
        "  def first(self):\n",
        "    return self._data[0]\n",
        "\n",
        "  def enqueu(self, item):\n",
        "    self._size += 1\n",
        "    self._data.append(item)\n",
        "\n",
        "  def dequeue(self):\n",
        "    if self.isempty():\n",
        "      raise Exception(\"queue kosong\")\n",
        "    else :\n",
        "      self._size -= 1\n",
        "      return self._data.pop(0)"
      ],
      "metadata": {
        "id": "wuhQq7xx-NFL"
      },
      "execution_count": 114,
      "outputs": []
    },
    {
      "cell_type": "code",
      "source": [
        "#stack ADT menggunakan queue\n",
        "class Stackwithqueue():\n",
        "  def __init__(self):\n",
        "    self._data = Queue()\n",
        "    self._size = 0\n",
        "\n",
        "  def __len__(self):\n",
        "    return self._size\n",
        "\n",
        "  def isempty(self):\n",
        "    return self._data.isempty()\n",
        "\n",
        "  def push(self, item):\n",
        "    self._data.enqueu(item)\n",
        "    self._size += 1\n",
        "\n",
        "    for i in range(self._size-1):\n",
        "      self._data.enqueu(self._data.dequeue())\n",
        "\n",
        "  def pop(self):\n",
        "    if self.isempty():\n",
        "      raise Exception('stack kosong')\n",
        "\n",
        "    self._size -= 1\n",
        "    return self._data.dequeue()\n",
        "\n",
        "  def top(self):\n",
        "    if self.isempty():\n",
        "      raise Exception('stack kosong')\n",
        "\n",
        "    return self._data.first()"
      ],
      "metadata": {
        "id": "YiIn7Pmk-QQe"
      },
      "execution_count": 115,
      "outputs": []
    },
    {
      "cell_type": "code",
      "source": [
        "SQ = Stackwithqueue()\n",
        "\n",
        "for i in range(10):\n",
        "  SQ.push(i)\n",
        "\n",
        "while not SQ.isempty():\n",
        "  print(SQ.top(), SQ.pop())"
      ],
      "metadata": {
        "colab": {
          "base_uri": "https://localhost:8080/"
        },
        "id": "ZWtxr_OxBhUn",
        "outputId": "e0746e35-4e91-4c4a-bdf0-5e6958877b3f"
      },
      "execution_count": 116,
      "outputs": [
        {
          "output_type": "stream",
          "name": "stdout",
          "text": [
            "9 9\n",
            "8 8\n",
            "7 7\n",
            "6 6\n",
            "5 5\n",
            "4 4\n",
            "3 3\n",
            "2 2\n",
            "1 1\n",
            "0 0\n"
          ]
        }
      ]
    }
  ]
}