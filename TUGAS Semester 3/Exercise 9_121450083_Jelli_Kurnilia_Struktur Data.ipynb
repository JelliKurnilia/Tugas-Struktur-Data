{
  "cells": [
    {
      "cell_type": "markdown",
      "metadata": {
        "id": "wUDz_dNe51MN"
      },
      "source": [
        "#**JELLI KURNILIA**\n",
        "#**121450083**\n",
        "#**EXERCISE 9 STRUKTUR DATA (RC)**"
      ]
    },
    {
      "cell_type": "markdown",
      "metadata": {
        "id": "Dx_U9ogE6CeV"
      },
      "source": [
        "## **Introduction Section**\n",
        "\n",
        "\n",
        "\n",
        "1.  Jelaskan definisi object dalam Paradigma object-Oriented!\n",
        "2.   Jelaskan tiga tujuan dalam Paradigma Object-Oriented!\n",
        "3. Jelaskan tiga prinsip dalam Paradigma Object-Oriented!\n",
        "4. Sebutkan contoh design pattern dalam Paradigma Object-Oriented!\n",
        "\n"
      ]
    },
    {
      "cell_type": "markdown",
      "metadata": {
        "id": "u5v4MORJ7viO"
      },
      "source": [
        "Jawaban =\n",
        "1. Object dalam paradigma Object-Oriented merupakan pemeran **utama** dan merupakan representasi dari sebuah class. Setiap object adalah turunan dari *Class* yang akan menentukan variabel. \n",
        "\n",
        "2. Tujuan dalam paradigma Object-Oriented antara lain:\n",
        "    * Robustness, yaitu mampu menangani input yang tidak terduga\n",
        "    * Adaptability, yaitu kemampuan adaptasi yang mana dapat dijalankan meskipun terjadi perubahan pada sistem operasi yang berbeda\n",
        "    * Reusability, yaitu dapat digunakan kembali. maksudnya adalah kode-kode yang dibuat harus dapat digunakan sebagai komponen\n",
        "\n",
        "3. Prinsip dalam Paradigma Object-Oriented antara lain :\n",
        "    * Modularity\n",
        "      kumpulan *function* dan *class* didefinisikan bersama dalam satu source code\n",
        "    * Abstraction\n",
        "      abstrak atau model struktur data memuat jenis data yang disimpan dan jenis parameter operasi\n",
        "    * Encapsulation\n",
        "      Encapsulation diasumsikan sebagai beberapa struktur data yang bersifat publik atau dianggap detail internal\n",
        "\n",
        "4. contoh design pattern dalam Paradigma Object-Oriented\n",
        "    * merancang kode yang baik membutuhkan lebih dari sekedar memahami metodologi object-oriented\n",
        "    * membutuhkan teknik dasar object-oriented yang efektif"
      ]
    },
    {
      "cell_type": "markdown",
      "metadata": {
        "id": "ROV39hte6fRF"
      },
      "source": [
        "## **Class and Object**"
      ]
    },
    {
      "cell_type": "markdown",
      "metadata": {
        "id": "n8Z4m_FT6_jO"
      },
      "source": [
        "\n",
        "1.   Jelaskan definisi Class!\n",
        "\n",
        "2.   Jelaskan perbedaan Attribute dengan Method!\n",
        "\n",
        "3.   Jelaskan apa itu instansiasi Object!\n",
        "4.   Jelaskan apa itu identifier!\n",
        "\n"
      ]
    },
    {
      "cell_type": "markdown",
      "metadata": {
        "id": "NRlQ821v7xz2"
      },
      "source": [
        "Jawaban :      \n",
        "1. Class adalah sebuah cetakan/blueprint untuk membuat berbagai macam *object* untuk kebutuhan yang berbeda - beda. Sebuah class juga memiliki atribute (karakter) dan methode (perilaku) yang hanya dimiliki oleh class yang disebutkan.\n",
        "\n",
        "2. * Atribute biasa disebut juga properties yang mana merupakan karakteristik dari sebuah class tersebut. Atribute juga dapat berupa variabel didalam class. variabel yang digunakan sebagai attribute biasanya didefinisikan dalam fungsi constructur ```(__init__)``` dan menggunakan keyword ```self```. Sedangkan, \n",
        "  * Methode adalah fungsi yang didefinisikan dalam suatu class. setiap mendefinisikan sebuah method parameter keyword ```self``` harus selalu ada. Hal ini bertujuan agar nantinya kita dapat mengakses attribute atau method dari class tersebut.\n",
        "\n",
        "3. Instansiasi Object adalah cara membuat object dari sebuah class. Dalam penulisannya selalu diikuti () setelah ClassName sebagai parameter.  contoh  ```Jelli = New user()```\n",
        "\n",
        "4. Identifier adalah nama yang digunakan untuk mengidentifikasi atau memberikan identitas untuk variabel, function, class, module, ataupun object lainnya."
      ]
    },
    {
      "cell_type": "markdown",
      "metadata": {
        "id": "7B_W-IzW7y62"
      },
      "source": [
        "## **Implementing Class**\n",
        "Implementasikan kelas diagram \"Kendaraan\" berikut ke dalam Python!\n",
        "\n",
        "Class Kendaraan :\n",
        "```\n",
        "- string nomorPlat\n",
        "- string merk\n",
        "- string jenis\n",
        "- string warna\n",
        "- int tanggalBeli\n",
        "- int bulanBeli\n",
        "- int tahunBeli\n",
        "- double berat\n",
        "- double harga\n",
        "- showTanggalPembelian()\n",
        "```\n",
        "\n",
        "\n",
        "\n"
      ]
    },
    {
      "cell_type": "markdown",
      "metadata": {
        "id": "ua_KH1pw8BMn"
      },
      "source": [
        "jawaban"
      ]
    },
    {
      "cell_type": "markdown",
      "metadata": {
        "id": "8Sd_b-0f8DP5"
      },
      "source": [
        "## **Main OOP Concept**\n",
        "1. Jelaskan konsep encapsulation dalam Paradigma Object-Oriented!\n",
        "2. Jelaskan konsep inheritance dalam Paradigma Object-Oriented!\n",
        "3. Jelaskan perbedaan public method dan private method dalam encapsulation!\n",
        "4. Jelaskan perbedaan superclass dan subclass dalam inheritance!"
      ]
    },
    {
      "cell_type": "markdown",
      "metadata": {
        "id": "83y-R7m7FLD8"
      },
      "source": [
        "Jawaban ;  \n",
        "1. Konsep encapsulation dalam paradigma object-oriented adalah konsep tentang pengikatan/pembungkusan data atau metode berbeda yang disatukan menjadi satu unit data untuk menjaga tetap terjaga agar tidak adanya penyalahgunaan.\n",
        "\n",
        "2. Konsep inheritance dalam paradigma object oriented adalah konsep OOP dimana sebuah class dapat menurunkan property dan method yang dimilikinya kepada class lain. Konsep inheritance berfungsi untuk menghindari terjadinya duplikasi kode program.\n",
        "\n",
        "3. * Public Method berfungsi untuk memberikan akses properti yang dapat diakses dari mana saja. Ketika sebuah property maupun method di set menjadi public, maka seluruh kode program di luar maupun didalam dari class bisa mengakses property maupun method tersebut, termasuk juga untuk class turunannya.\n",
        "   * Private Methode berfungsi untuk memberikan akses properti yang hanya dapat diakses dari dalam class tersebut.Ketika sebuah property maupun method di set menjadi public, maka seluruh kode program di luar maupun didalam dari class bisa mengakses property maupun method tersebut, termasuk juga untuk class turunannya. \n",
        "\n",
        "4. * Superclass dalam inheritance merepresentasikan kumpulan banyak object yang lebih besar dari kumpulan object subclass.\n",
        "Contoh:\n",
        "```superclass: Kendaraan```\n",
        "Mobil, truk, perahu, sepeda,\n",
        "```subclass: Mobil```\n",
        "Lebih kecil, kendaraan yg lebih spesifik\n",
        "Sedangkan Subclass adalah sebutan untuk class yang menjadi turunan dari superclass"
      ]
    },
    {
      "cell_type": "markdown",
      "metadata": {
        "id": "LseI9lOD8NUt"
      },
      "source": [
        "#**Programming Exercise**\n",
        "\n",
        "1. Buatlah class diagram dari code python berikut ini:\n",
        "\n",
        "```\n",
        "class Koordinat:\n",
        "\tdef __init__(self,x,y):\n",
        "\t\tself.z = 0\n",
        "\t\tself.x = x\n",
        "\t\tself.y = y\n",
        "\tdef set_x(self,x):\n",
        "\t\tself.x = x\n",
        "\tdef increment_x(self):\n",
        "\t\tself.x+=1\n",
        "\tdef __str__(self):\n",
        "\t\treturn f\"x : {self.x} , y:{self.y} , z:{self.z}\"\n",
        "  ```"
      ]
    },
    {
      "cell_type": "markdown",
      "metadata": {
        "id": "Swodmgg88er-"
      },
      "source": [
        "2. Implementasikan class diagram berikut menjadi program python!\n",
        "![image.png](data:image/png;base64,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)"
      ]
    },
    {
      "cell_type": "markdown",
      "metadata": {
        "id": "i1vFppUM9H5l"
      },
      "source": [
        "\n",
        "\n",
        "3.   fungsi norm() adalah fungsi untuk menghitung norm dari sebuah vector yaitu norm = ![image.png](data:image/png;base64,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)  . Buatlah fungsi untuk menghitung norm dari vector berdasarkan class yang telah anda buat!\n",
        "\n",
        "\n",
        "4.   Euclidian Distance adalah jarak antara 2 vector dan didefinisikan sebagai\n",
        "![image.png](data:image/png;base64,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)\n",
        "buatlah program untuk menghitung euclidian distance antara 2 vector berdasarkan class yang telah anda buat!\n"
      ]
    },
    {
      "cell_type": "code",
      "execution_count": null,
      "metadata": {
        "id": "lpTqPbZ08Zwa"
      },
      "outputs": [],
      "source": [
        "#JAWABAN\n",
        "class Koordinat:\n",
        "  def __init__(self, x, y, z):\n",
        "    self.__x = x\n",
        "    self.__y = y\n",
        "    self.__z = z\n",
        "  \n",
        "  def setX(self, a):\n",
        "    self.__x = a\n",
        "\n",
        "  def getX(self):\n",
        "    return self.__x\n",
        "  \n",
        "  def setY(self, b):\n",
        "    self.__y = b\n",
        "\n",
        "  def getY(self):\n",
        "    return self.__y\n",
        "\n",
        "  def setZ(self, c):\n",
        "    self.__z = c\n",
        "\n",
        "  def getZ(self):\n",
        "    return self.__z\n",
        "\n",
        "  def __str__(self):\n",
        "    return f\"{self.__x}, {self.__y}, {self.__z}\""
      ]
    },
    {
      "cell_type": "code",
      "execution_count": null,
      "metadata": {
        "id": "Pviiyedo8tcp"
      },
      "outputs": [],
      "source": [
        "#JAWABAN NO 2\n",
        "class Koordinat:\n",
        "  def __init__(self, x, y, z):\n",
        "    self.__x = x\n",
        "    self.__y = y\n",
        "    self.__z = z\n",
        "  \n",
        "  def setX(self, a):\n",
        "    self.__x = a\n",
        "\n",
        "  def getX(self):\n",
        "    return self.__x\n",
        "  \n",
        "  def setY(self, b):\n",
        "    self.__y = b\n",
        "\n",
        "  def getY(self):\n",
        "    return self.__y\n",
        "\n",
        "  def setZ(self, c):\n",
        "    self.__z = c\n",
        "\n",
        "  def getZ(self):\n",
        "    return self.__z\n",
        "\n",
        "  def __str__(self):\n",
        "    return f\"{self.__x}, {self.__y}, {self.__z}\""
      ]
    },
    {
      "cell_type": "code",
      "execution_count": null,
      "metadata": {
        "id": "RB1JP4IG8593"
      },
      "outputs": [],
      "source": [
        "class Vector(Koordinat):\n",
        "  def __init__(self, x, y, z, kelas):\n",
        "    Koordinat.__init__(self, x, y, z)\n",
        "    self.__kelas = kelas\n",
        "\n",
        "  def getKoordinat(self):\n",
        "    return Koordinat.__str__(self) + f\" kelas: {self.__kelas}\"\n",
        "  \n",
        "  def setKoordinat(self, a, b, c):\n",
        "    super().setX(a)\n",
        "    super().setY(b)\n",
        "    super().setZ(c)\n",
        "    return self.getKoordinat()\n",
        "\n",
        "# (Nomor 3) Membuat fungsi untuk menghitung norm dari vector\n",
        "  def norm(self):\n",
        "    return ((self.x**2 + self.y**2 + self.x**2)**0.5)\n",
        "\n",
        "# (Nomor 4) Membuat fungsi untuk menghitung euclidian distance antara 2 vector\n",
        "  def euclidian_distance(self,a,b,c):\n",
        "    x_1 = super().getX()\n",
        "    y_1 = super().getY()\n",
        "    z_1 = super().getZ()\n",
        "    distance = int(((x_1-a)**2 + (y_1-b)**2 + (z_1-c)**2)**0.5)\n",
        "    return distance\n",
        "  \n",
        "  def getKelas(self):\n",
        "    return self.__kelas"
      ]
    },
    {
      "cell_type": "code",
      "execution_count": null,
      "metadata": {
        "id": "At2Dd_i18-bc"
      },
      "outputs": [],
      "source": [
        "A = Vector(0,1,1,0)\n",
        "B\t= Vector(2,2,2,1)\n",
        "C\t= Vector(1.5,1.2,1.5,1)\n",
        "D\t= Vector(10,9,8,0)\n",
        "E\t= Vector(5,5,5,0)\n",
        "F\t= Vector(8,8,8,0)\n",
        "G\t= Vector(6,6,1,0)"
      ]
    },
    {
      "cell_type": "code",
      "execution_count": null,
      "metadata": {
        "colab": {
          "base_uri": "https://localhost:8080/"
        },
        "id": "RkbscKhM9Ai1",
        "outputId": "b5f57006-127f-44f3-c362-e7182ec0d695"
      },
      "outputs": [
        {
          "name": "stdout",
          "output_type": "stream",
          "text": [
            "vector:0, 1, 1 memiliki kedekatan 4 dengan kelas 0\n",
            "vector:2, 2, 2 memiliki kedekatan 1 dengan kelas 1\n",
            "vector:1.5, 1.2, 1.5 memiliki kedekatan 2 dengan kelas 1\n",
            "vector:10, 9, 8 memiliki kedekatan 10 dengan kelas 0\n",
            "vector:5, 5, 5 memiliki kedekatan 3 dengan kelas 0\n",
            "vector:8, 8, 8 memiliki kedekatan 8 dengan kelas 0\n",
            "vector:6, 6, 1 memiliki kedekatan 4 dengan kelas 0\n"
          ]
        }
      ],
      "source": [
        "sample = [A,B,C,D,E,F,G]\n",
        "for i in sample:\n",
        "  print(f\"vector:{i} memiliki kedekatan {i.euclidian_distance(3,3,3)} dengan kelas {i.getKelas()}\")"
      ]
    },
    {
      "cell_type": "markdown",
      "metadata": {
        "id": "HBytoBS69z-n"
      },
      "source": [
        "\n",
        "* Perhatikan tabel berikut\n",
        "\n",
        "\n",
        "![image.png](data:image/png;base64,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)\n",
        "\n",
        "\n",
        "Salah satu metode dalam data science untuk melakukan klasifikasi adalah dengan menggunakan k-nearest neighbor, dimana cara menentukan label kelas adalah dengan cara melihat tetangga dengan euclidian distance terdekat. Tentukan kelas dari vector H dengan cara:\n",
        "\n",
        "* Tentukan 3 tetangga paling dekat dari H\n",
        "* Dari 3 tetangga tersebut, pilih kelas yang paling banyak muncul\n",
        "* Jadikan kelas yang paling banyak muncul tersebut sebagai kelas dari vector H\n",
        "\n",
        "Implementasikan algoritma tersebut menggunakan program python dengan paradigma object-oriented programming yang telah anda pelajari!"
      ]
    },
    {
      "cell_type": "code",
      "execution_count": null,
      "metadata": {
        "id": "-HgqGdFa-Vyx"
      },
      "outputs": [],
      "source": [
        "from math import sqrt\n",
        "import statistics\n",
        "class Vektor:\n",
        "  def __init__(self, vektor, x, y, z, nama_vektor):\n",
        "    self.vektor = vektor\n",
        "    self.x = x\n",
        "    self.y = y\n",
        "    self.z = z\n",
        "    self.nama_vektor = nama_vektor\n",
        "    self.kls_h = 0\n",
        "  def jarak(self):\n",
        "    vkt = []\n",
        "    jarak = []\n",
        "    #   Menentukan 3 tetangga terdekat H\n",
        "    for i in self.vektor:\n",
        "        komponen_vektor = list(self.vektor[i].values())\n",
        "        def dekat(komponen_vektor):\n",
        "            distance = 0\n",
        "            for i in komponen_vektor:\n",
        "                distance = sqrt((self.x-komponen_vektor[1])**2 + (self.y-komponen_vektor[2])**2 + (self.z-komponen_vektor[3])**2)\n",
        "            return distance\n",
        "        vkt = vkt + [self.vektor[i]]\n",
        "        jarak = jarak + [round(dekat(komponen_vektor), 2)]\n",
        "        print(f\"Jarak antara vektor {self.vektor[i]['vektor']} dengan vektor H adalah{round(dekat(komponen_vektor), 2)}\")\n",
        "    val_sorted = sorted(jarak)\n",
        "    tetangga = {}\n",
        "\n",
        "    for i in range(len(jarak)):\n",
        "        tetangga[jarak[i]] = vkt[i]    \n",
        "    print(\"SEHINGGA URUTAN JARAK VEKTOR TERDEKAT HINGGA TERJAUH DENGAN H ADALAH:.....\")\n",
        "\n",
        "    for j in range(len(val_sorted)): \n",
        "        print(f\"Jarak antara vektor {tetangga[val_sorted[j]]['vektor']} dengan vektor H adalah {val_sorted[j]}\")\n",
        "    print(\"MAKA 3 TETANGGA TERDEKAT DENGAN H ADALAH:....\")\n",
        "    kls = []\n",
        "\n",
        "    for k in range(3):\n",
        "        print(f\"Vektor {tetangga[val_sorted[k]]['vektor']} dengan kelas {tetangga[val_sorted[k]]['kelas']} pada jarak {val_sorted[k]} dengan vektor H\")\n",
        "        kls = kls + [tetangga[val_sorted[k]]['kelas']]\n",
        "    self.kls_h = statistics.mode(kls)\n",
        "    print(\"Kelas yang paling banyak muncul adalah = \", self.kls_h)\n",
        "    print(\"Kelas dari vektor H = \", self.kls_h)\n",
        "  def hasil(self):\n",
        "    return {'vektor': self.nama_vektor, 'x' : self.x, 'y' : self.y, 'z': self.z, 'kelas': self.kls_h}"
      ]
    },
    {
      "cell_type": "code",
      "execution_count": null,
      "metadata": {
        "colab": {
          "base_uri": "https://localhost:8080/"
        },
        "id": "33p_5XdaewH9",
        "outputId": "9fac6dd0-4ca5-4bed-b4fb-c58c69ae95e7"
      },
      "outputs": [
        {
          "name": "stdout",
          "output_type": "stream",
          "text": [
            "{'vektor': 'A', 'x': 0, 'y': 1, 'z': 1, 'kelas': 0}\n",
            "{'vektor': 'B', 'x': 2, 'y': 2, 'z': 2, 'kelas': 1}\n",
            "{'vektor': 'C', 'x': 1.5, 'y': 1.2, 'z': 1, 'kelas': 1}\n",
            "{'vektor': 'D', 'x': 10, 'y': 9, 'z': 0, 'kelas': 0}\n",
            "{'vektor': 'E', 'x': 5, 'y': 5, 'z': 5, 'kelas': 0}\n",
            "{'vektor': 'F', 'x': 8, 'y': 8, 'z': 0, 'kelas': 0}\n",
            "{'vektor': 'G', 'x': 6, 'y': 6, 'z': 0, 'kelas': 0}\n",
            "\n",
            "\n",
            "Jarak antara vektor A dengan vektor H adalah4.12\n",
            "Jarak antara vektor B dengan vektor H adalah1.73\n",
            "Jarak antara vektor C dengan vektor H adalah3.08\n",
            "Jarak antara vektor D dengan vektor H adalah9.7\n",
            "Jarak antara vektor E dengan vektor H adalah3.46\n",
            "Jarak antara vektor F dengan vektor H adalah7.68\n",
            "Jarak antara vektor G dengan vektor H adalah5.2\n",
            "SEHINGGA URUTAN JARAK VEKTOR TERDEKAT HINGGA TERJAUH DENGAN H ADALAH:.....\n",
            "Jarak antara vektor B dengan vektor H adalah 1.73\n",
            "Jarak antara vektor C dengan vektor H adalah 3.08\n",
            "Jarak antara vektor E dengan vektor H adalah 3.46\n",
            "Jarak antara vektor A dengan vektor H adalah 4.12\n",
            "Jarak antara vektor G dengan vektor H adalah 5.2\n",
            "Jarak antara vektor F dengan vektor H adalah 7.68\n",
            "Jarak antara vektor D dengan vektor H adalah 9.7\n",
            "MAKA 3 TETANGGA TERDEKAT DENGAN H ADALAH:....\n",
            "Vektor B dengan kelas 1 pada jarak 1.73 dengan vektor H\n",
            "Vektor C dengan kelas 1 pada jarak 3.08 dengan vektor H\n",
            "Vektor E dengan kelas 0 pada jarak 3.46 dengan vektor H\n",
            "Kelas yang paling banyak muncul adalah =  1\n",
            "Kelas dari vektor H =  1\n",
            "{'vektor': 'H', 'x': 3, 'y': 3, 'z': 3, 'kelas': 1}\n",
            "\n",
            "\n",
            "{'vektor': 'A', 'x': 0, 'y': 1, 'z': 1, 'kelas': 0}\n",
            "{'vektor': 'B', 'x': 2, 'y': 2, 'z': 2, 'kelas': 1}\n",
            "{'vektor': 'C', 'x': 1.5, 'y': 1.2, 'z': 1, 'kelas': 1}\n",
            "{'vektor': 'D', 'x': 10, 'y': 9, 'z': 0, 'kelas': 0}\n",
            "{'vektor': 'E', 'x': 5, 'y': 5, 'z': 5, 'kelas': 0}\n",
            "{'vektor': 'F', 'x': 8, 'y': 8, 'z': 0, 'kelas': 0}\n",
            "{'vektor': 'G', 'x': 6, 'y': 6, 'z': 0, 'kelas': 0}\n",
            "{'vektor': 'H', 'x': 3, 'y': 3, 'z': 3, 'kelas': 1}\n"
          ]
        }
      ],
      "source": [
        "tabel = {\n",
        "    \"vektor1\" : {'vektor': 'A', 'x' : 0, 'y' : 1, 'z': 1, 'kelas': 0 },\n",
        "    \"vektor2\" : {'vektor': 'B', 'x' : 2, 'y' : 2, 'z': 2, 'kelas': 1},\n",
        "    \"vektor3\" : {'vektor': 'C', 'x' : 1.5, 'y' : 1.2, 'z': 1, 'kelas': 1},\n",
        "    \"vektor4\" : {'vektor': 'D', 'x' : 10, 'y' : 9, 'z': 0, 'kelas': 0},\n",
        "    \"vektor5\" : {'vektor': 'E', 'x' : 5, 'y' : 5, 'z': 5, 'kelas': 0},\n",
        "    \"vektor6\" : {'vektor': 'F', 'x' : 8, 'y' : 8, 'z': 0, 'kelas': 0},\n",
        "    \"vektor7\" : {'vektor': 'G', 'x' : 6, 'y' : 6, 'z': 0, 'kelas': 0},\n",
        "}\n",
        "for key in tabel:\n",
        "    print(tabel[key])\n",
        "print(\"\\n\")\n",
        "data = Vektor(tabel, 3, 3, 3, \"H\")\n",
        "data.jarak()\n",
        "print(data.hasil())\n",
        "tabel[\"vektor8\"] = data.hasil()\n",
        "print(\"\\n\")\n",
        "for key in tabel:\n",
        "    print(tabel[key])"
      ]
    }
  ],
  "metadata": {
    "colab": {
      "provenance": []
    },
    "kernelspec": {
      "display_name": "Python 3.10.7 64-bit (microsoft store)",
      "language": "python",
      "name": "python3"
    },
    "language_info": {
      "name": "python",
      "version": "3.10.7"
    },
    "vscode": {
      "interpreter": {
        "hash": "65a440aeac0c89e2af7569e0aa53b64434c4b69eb6285e2b0d174d9bca190d54"
      }
    }
  },
  "nbformat": 4,
  "nbformat_minor": 0
}
