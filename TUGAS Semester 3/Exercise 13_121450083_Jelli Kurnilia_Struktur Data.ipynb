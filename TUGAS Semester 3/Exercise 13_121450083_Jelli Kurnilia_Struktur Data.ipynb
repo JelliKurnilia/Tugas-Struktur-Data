{
  "nbformat": 4,
  "nbformat_minor": 0,
  "metadata": {
    "colab": {
      "provenance": []
    },
    "kernelspec": {
      "name": "python3",
      "display_name": "Python 3"
    },
    "language_info": {
      "name": "python"
    }
  },
  "cells": [
    {
      "cell_type": "markdown",
      "source": [
        "# **EXERCISE 13 MATA KULIAH STRUKTUR DATA**\n",
        "# **NON-LINEAR DATA STUCTURE**\n",
        "## **Jelli Kurnilia/121450083/RC**"
      ],
      "metadata": {
        "id": "47OXpAGLeOzV"
      }
    },
    {
      "cell_type": "markdown",
      "source": [
        "# Exercise :\n",
        "\n",
        "1. Jelaskan apa itu Directed Acyclic Graph\n",
        "2. Buatlah penjelasan tiap baris pada algoritma / code dalam Directed Acyclic Graph\n",
        "3. Jelaskan apa itu Dijkstra Algorithm\n",
        "4. Buatlah penjelasan tiap baris pada algoritma / code dalam Dijkstra Algorithm"
      ],
      "metadata": {
        "id": "eiJipiemeRlY"
      }
    },
    {
      "cell_type": "markdown",
      "source": [
        "#Jawaban\n",
        "1. `Directed Acyclic Graph` adalah sebuah graf berarah yang `acylic` (tidak memiliki cycle/loop) didalamnya.  Directed Acyclic Graph banyak digunakan untuk menyelesaikan persoalan graf sehingga menjadi lebih sederhana, salah\n",
        "satunya adalah evaluasi pohon ekspresi (expression tree\n",
        "evaluation).\n",
        "\n",
        "2. \n",
        "\n",
        "3. `Dijkstra Algorithm` adalah sebuahm algoritma yang memungkinkan kita menemukan jalur terpendek antara dua simpul mana pun dari suatu graf dengan menggunakan metode yang dimana node akan diarahkan dan disusun menjadi sebuah dictionary pengenalan lokasi, kemudian dilakukan pengecekan jarak pada while lalu jarak minimum akan ditemukan. \n",
        "4.  "
      ],
      "metadata": {
        "id": "LaKHkdPxeqK4"
      }
    },
    {
      "cell_type": "markdown",
      "source": [
        "# Jawaban No 2"
      ],
      "metadata": {
        "id": "gHjBFAD9hk4m"
      }
    },
    {
      "cell_type": "code",
      "source": [
        "# untuk  Directed Acyclic Graphs Complexity\n",
        "from collections import defaultdict\n",
        "\n",
        "# Graph direpresentasikan menggunakan daftar adjacency. Setiap\n",
        "# simpul dari daftar adjacency berisi nomor simpul dari\n",
        "# simpul yang terhubung dengan sisi. Ini juga berisi\n",
        "# berat tepi\n",
        "class Graph:\n",
        "\tdef __init__(self,vertices):\n",
        "    # Jumlah simpul\n",
        "\t\tself.V = vertices \n",
        "\n",
        "\t\t# kamus yang berisi Daftar adjacency\n",
        "\t\tself.graph = defaultdict(list)\n",
        "\n",
        "\t# berfungsi untuk menambahkan tepi ke graph\n",
        "\tdef addEdge(self,u,v,w):\n",
        "\t\tself.graph[u].append((v,w))\n",
        "\n",
        "\n",
        "\t# Fungsi rekursif yang digunakan oleh shortestPath\n",
        "\tdef topologicalSortUtil(self,v,visited,stack):\n",
        "\n",
        "\t\t# Tandai simpul saat ini sebagai telah dikunjungi.\n",
        "\t\tvisited[v] = True\n",
        "\n",
        "\t\t# Recur untuk semua simpul yang berdekatan dengan simpul ini\n",
        "\t\tif v in self.graph.keys():\n",
        "\t\t\tfor node,weight in self.graph[v]:\n",
        "\t\t\t\tif visited[node] == False:\n",
        "\t\t\t\t\tself.topologicalSortUtil(node,visited,stack)\n",
        "\n",
        "\t\t# Dorong simpul saat ini untuk menumpuk yang menyimpan jenis topologi\n",
        "\t\tstack.append(v)\n",
        "\n",
        "\n",
        "\t''' Fungsi untuk menemukan jalur terpendek dari simpul yang diberikan.\n",
        "Ini menggunakan topologicalSortUtil() rekursif untuk mendapatkan topologi\n",
        "menyortir graph yang diberikan.'''\n",
        "\n",
        "\tdef shortestPath(self, s):\n",
        "\n",
        "\t\t# Tandai semua simpul sebagai belum dikunjungi\n",
        "\t\tvisited = [False]*self.V\n",
        "\t\tstack =[]\n",
        "\n",
        "\t\t# Panggil fungsi pembantu rekursif untuk menyimpan Topologi\n",
        "# Urutkan mulai dari simpul sumber\n",
        "\t\tfor i in range(self.V):\n",
        "\t\t\tif visited[i] == False:\n",
        "\t\t\t\tself.topologicalSortUtil(s,visited,stack)\n",
        "\n",
        "\t\t# Inisialisasi jarak ke semua simpul sebagai tak terbatas dan\n",
        "# jarak ke sumber sebagai 0\n",
        "\t\tdist = [float(\"Inf\")] * (self.V)\n",
        "\t\tdist[s] = 0\n",
        "\n",
        "\t\t# Memproses simpul dalam urutan topologi\n",
        "\t\twhile stack:\n",
        "\n",
        "\t\t\t# Dapatkan simpul berikutnya dari urutan topologi\n",
        "\t\t\ti = stack.pop()\n",
        "\n",
        "\t\t\t# Perbarui jarak semua simpul yang berdekatan\n",
        "\t\t\tfor node,weight in self.graph[i]:\n",
        "\t\t\t\tif dist[node] > dist[i] + weight:\n",
        "\t\t\t\t\tdist[node] = dist[i] + weight\n",
        "\n",
        "\t# Cetak jarak terpendek yang dihitung\n",
        "\t\tfor i in range(self.V):\n",
        "\t\t\tprint ((\"%d\" %dist[i]) if dist[i] != float(\"Inf\") else \"Inf\" ,end=\" \")\n",
        "\n",
        "\n",
        "g = Graph(6)\n",
        "g.addEdge(1, 0, 5)\n",
        "g.addEdge(0, 2, 3)\n",
        "g.addEdge(1, 3, 6)\n",
        "g.addEdge(1, 2, 2)\n",
        "g.addEdge(2, 4, 2)\n",
        "g.addEdge(2, 5, 3)\n",
        "g.addEdge(2, 3, 6)\n",
        "g.addEdge(3, 4, -2)\n",
        "g.addEdge(4, 5, -1)\n",
        "\n",
        "# sumber = 1\n",
        "s = 1\n",
        "\n",
        "print (\"Berikut adalah jarak terpendek dari sumber %d \" % s)\n",
        "g.shortestPath(s)"
      ],
      "metadata": {
        "id": "eTldhEdohiz-",
        "colab": {
          "base_uri": "https://localhost:8080/"
        },
        "outputId": "15ad6d97-983e-4f98-8e20-621e3a35fe63"
      },
      "execution_count": 1,
      "outputs": [
        {
          "output_type": "stream",
          "name": "stdout",
          "text": [
            "Berikut adalah jarak terpendek dari sumber 1 \n",
            "5 0 2 6 4 3 "
          ]
        }
      ]
    },
    {
      "cell_type": "markdown",
      "source": [
        "# Jawaban No 4"
      ],
      "metadata": {
        "id": "nPnQCMhVhpMR"
      }
    },
    {
      "cell_type": "code",
      "source": [
        "# Library for INT_MAX\n",
        "import sys\n",
        " \n",
        " \n",
        "class Graph(): # Mendefinisikan sebuah class dengan variabel Graph\n",
        " \n",
        "    def __init__(self, vertices):\n",
        "        self.V = vertices\n",
        "        self.graph = [[0 for column in range(vertices)]\n",
        "                      for row in range(vertices)]\n",
        " \n",
        "    def printSolution(self, dist):\n",
        "        print(\"Vertex \\tDistance from Source\")\n",
        "        for node in range(self.V):\n",
        "            print(node, \"\\t\", dist[node])\n",
        " \n",
        "    # Fungsi utilitas untuk menemukan simpul dengan nilai jaarak minimum dan jarak terpendek\n",
        "    def minDistance(self, dist, sptSet):\n",
        " \n",
        "        # Inisialisasi jarak minimum untuk node berikutnya\n",
        "        min = sys.maxsize\n",
        " \n",
        "        # fungsi untuk mencari yang bukan simpul terdekat\n",
        "        for u in range(self.V):\n",
        "            if dist[u] < min and sptSet[u] == False:\n",
        "                min = dist[u]\n",
        "                min_index = u\n",
        " \n",
        "        return min_index\n",
        " \n",
        "    # Fungsi yang mengimplementasikan sumber tunggal Dijkstra\n",
        "    # algoritma jalur terpendek untuk grafik yang diwakili\n",
        "    # menggunakan representasi matriks adjacency\n",
        "    def dijkstra(self, src):\n",
        " \n",
        "        dist = [sys.maxsize] * self.V\n",
        "        dist[src] = 0\n",
        "        sptSet = [False] * self.V\n",
        " \n",
        "        for cout in range(self.V):\n",
        " \n",
        "            # Pilih titik jarak minimum dari\n",
        "            # kumpulan simpul belum diproses.\n",
        "            # x selalu sama dengan src pada iterasi pertama\n",
        "            x = self.minDistance(dist, sptSet)\n",
        " \n",
        "\n",
        "            # Letakkan simpul jarak minimum di tree jalur terpendek\n",
        "            sptSet[x] = True\n",
        " \n",
        "\n",
        "            # Fungsi untuk memperbarui nilai dist dari simpul yang berdekatan\n",
        "            for y in range(self.V):\n",
        "                if self.graph[x][y] > 0 and sptSet[y] == False and \\\n",
        "                        dist[y] > dist[x] + self.graph[x][y]:\n",
        "                    dist[y] = dist[x] + self.graph[x][y]\n",
        " \n",
        "        self.printSolution(dist)\n",
        " \n",
        " \n",
        "# Driver's code\n",
        "if __name__ == \"__main__\":\n",
        "    g = Graph(7)\n",
        "    g.graph = [[0, 28, 0, 0, 0, 10, 0],\n",
        "               [28, 0, 16, 0, 0, 0, 14],\n",
        "               [0, 16, 0, 12, 0, 0, 0],\n",
        "               [0, 0, 12, 22, 0, 0, 18],\n",
        "               [0, 0, 0, 22, 0, 25, 24],\n",
        "               [10, 0, 0, 0, 25, 0, 0],\n",
        "               [0, 14, 0, 18, 24, 0, 0]\n",
        "               ]\n",
        " \n",
        "    g.dijkstra(0)"
      ],
      "metadata": {
        "colab": {
          "base_uri": "https://localhost:8080/"
        },
        "id": "2GZb6tgNhvfx",
        "outputId": "e92c69df-127e-405a-e87a-acc1556d002d"
      },
      "execution_count": null,
      "outputs": [
        {
          "output_type": "stream",
          "name": "stdout",
          "text": [
            "Vertex \tDistance from Source\n",
            "0 \t 0\n",
            "1 \t 28\n",
            "2 \t 44\n",
            "3 \t 56\n",
            "4 \t 35\n",
            "5 \t 10\n",
            "6 \t 42\n"
          ]
        }
      ]
    },
    {
      "cell_type": "code",
      "source": [],
      "metadata": {
        "id": "jDtW5VpZh7K8"
      },
      "execution_count": null,
      "outputs": []
    }
  ]
}