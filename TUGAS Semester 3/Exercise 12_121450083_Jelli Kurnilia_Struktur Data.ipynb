{
  "nbformat": 4,
  "nbformat_minor": 0,
  "metadata": {
    "colab": {
      "provenance": []
    },
    "kernelspec": {
      "name": "python3",
      "display_name": "Python 3"
    },
    "language_info": {
      "name": "python"
    }
  },
  "cells": [
    {
      "cell_type": "markdown",
      "source": [
        "# **EXERCISE 12 MATA KULIAH STRUKTUR DATA**\n",
        "# **NON-LINEAR DATA STUCTURE**\n",
        "## **Jelli Kurnilia/121450083/RC**"
      ],
      "metadata": {
        "id": "NP_QktUAdIjG"
      }
    },
    {
      "cell_type": "markdown",
      "source": [
        "Exercise :\n",
        "1. Jelaskan apa itu Tree dan sebutkan komponennya\n",
        "2. Jelaskan apa itu Binary Tree\n",
        "3. Jelaskan apa itu Binary Search Tree\n",
        "4. Buatlah penjelasan tiap baris pada algoritma / code dalam Binary Search Tree\n",
        "5. Jelaskan apa itu Graf dan sebutkan komponennya\n",
        "6. Jelaskan tipe - tipe pada Graf\n",
        "7. Jelaskan apa itu Breadth First Search\n",
        "8. Jelaskan apa itu Deep First Search\n",
        "9. Buatlah penjelasan tiap baris pada algoritma / code dalam Breadth First Search\n",
        "10. Buatlah penjelasan tiap baris pada algoritma / code dalam Depth First Search"
      ],
      "metadata": {
        "id": "RdEI520GdJ0q"
      }
    },
    {
      "cell_type": "markdown",
      "source": [
        "### Jawaban\n",
        "1. `Tree ` merupakan struktur data non linear yang digunakan untuk merepresentasikan hubungan data yang bersifat hierarkis antara elemen- elemennya.\n",
        "Komponen-komponennya antara lain\n",
        "* ROOT => merupakan sebuah node unik\n",
        "* NODE => entitas pada struktur data tree yang mengandung sebuah nilai dan pointer yang menunjuk simpul di bawahnya\n",
        "* PARENT => simpul yang berada satu level di atas simpul yang ditinjau.\n",
        "* CHILD => simpul yang berada satu level di atas simpul yang ditinjau.\n",
        "\n",
        "2. `Binary Tree` adalah struktur data yang digunakan untuk menyimpan data, dimana data disimpan dalam bentuk tree yang setiap node dapat memiliki anak maksimal 2 node\n",
        "\n",
        "3.` Binary Search Tree` adalah sebuah teknik pencarian data dengan cara berulang kali membagi separuh dari jumlah data yang dicari sampai sehingga memperkecil lokasi pencarian menjadi satu data\n",
        "\n",
        "4. \n",
        "\n",
        "5. `Graf` adalah jenis struktur data umum yang susunan datanya tidak berdekatan satu sama lain (non-linier) yang digunakan untuk merepresentasikan objek-objek diskrit dan hubungan antara objek-objek tersebut, sehingga secara sederhana graf didefinisikan sebagai kumpulan titik yang dihubungkan oleh garis-garis/sisi.Komponennya `Verteks` => verteks atau node adalah himpunan benda-benda yang disebut \"simpul\", dan `Edge` =>  sisi yang menghubungkan antar verteks.\n",
        "\n",
        "6. * `Undirected Graf` => graf yang sisinya tidak mempunyai orientasi arah\n",
        " * `Directed Graf` => graf yang sisinya diberikan orientasi arah.\n",
        "\n",
        "7. `Breadth First Search` adalah algoritma yang melakukan pencarian secara melebar yang mengunjungi simpul secara preorder yaitu mengunjungi suatu simpul kemudian mengunjungi semua simpul yang bertetangga dengan simpul tersebut terlebih dahulu.\n",
        "\n",
        "8. `Depth First Search` adalah  algoritma yang melakukan pencarian secara mendalam dari simpul akar bergerak menurun ke tingkat dalam yang berurutan. Dimana pencarian dilakukan pada suatu simpul dari setiap level dari yang paling kiri."
      ],
      "metadata": {
        "id": "9eynpeZedapp"
      }
    },
    {
      "cell_type": "markdown",
      "source": [
        "### Nomor 4"
      ],
      "metadata": {
        "id": "VwqOOJ-5iO4O"
      }
    },
    {
      "cell_type": "code",
      "source": [
        "# Fungsi utilitas untuk mencari kunci yang diberikan di BST\n",
        "def search(root,key):\n",
        "     \n",
        "    # root adalah null atau kunci ada di root\n",
        "    if root is None or root.val == key:\n",
        "        return root\n",
        " \n",
        "    # Kunci lebih besar dari kunci root\n",
        "    if root.val < key:\n",
        "        return search(root.right,key)\n",
        "   \n",
        "    # Key is smaller than root's key\n",
        "    return search(root.left,key)\n",
        "\n",
        "class Node:\n",
        "\tdef __init__(self, key):\n",
        "\t\tself.left = None\n",
        "\t\tself.right = None\n",
        "\t\tself.val = key\n",
        "\n",
        "# Fungsi utilitas untuk disisipkan\n",
        "# simpul baru dengan kunci yang diberikan\n",
        "\n",
        "\n",
        "def insert(root, key):\n",
        "\tif root is None:\n",
        "\t\treturn Node(key)\n",
        "\telse:\n",
        "\t\tif root.val == key:\n",
        "\t\t\treturn root\n",
        "\t\telif root.val < key:\n",
        "\t\t\troot.right = insert(root.right, key)\n",
        "\t\telse:\n",
        "\t\t\troot.left = insert(root.left, key)\n",
        "\treturn root\n",
        "\n",
        "# Fungsi utilitas untuk melakukan traversal tree inorder\n",
        "\n",
        "\n",
        "def inorder(root):\n",
        "\tif root:\n",
        "\t\tinorder(root.left)\n",
        "\t\tprint(root.val)\n",
        "\t\tinorder(root.right)\n",
        "\n",
        "\n",
        "# Program driver untuk menguji fungsi-fungsi di atas\n",
        "# contoh BST sebagai berikut\n",
        "    #     60\n",
        "    #   /\t   \\\n",
        "    # 30\t   80\n",
        "  # /   \\   /  \\\n",
        "# 20    50 70  90\n",
        "\n",
        "r = Node(60)\n",
        "r = insert(r, 30)\n",
        "r = insert(r, 20)\n",
        "r = insert(r, 50)\n",
        "r = insert(r, 80)\n",
        "r = insert(r, 70)\n",
        "r = insert(r, 90)\n",
        "\n",
        "# Mencetak inoder traversal dari BST\n",
        "print(\"Berikut adalah contoh dari Binary Search Tree (BST)\")\n",
        "inorder(r)"
      ],
      "metadata": {
        "colab": {
          "base_uri": "https://localhost:8080/"
        },
        "id": "06q9AppAiWX_",
        "outputId": "488edb6a-6266-450b-d363-920f658c33b3"
      },
      "execution_count": null,
      "outputs": [
        {
          "output_type": "stream",
          "name": "stdout",
          "text": [
            "Berikut adalah contoh dari Binary Search Tree (BST)\n",
            "20\n",
            "30\n",
            "50\n",
            "60\n",
            "70\n",
            "80\n",
            "90\n"
          ]
        }
      ]
    },
    {
      "cell_type": "markdown",
      "source": [
        "### Nomor 9"
      ],
      "metadata": {
        "id": "Pt_jicdwiAIw"
      }
    },
    {
      "cell_type": "code",
      "source": [
        "# dari simpul sumber yang diberikan. BFS(int s)\n",
        "# melintasi simpul yang dapat dijangkau dari s.\n",
        "from collections import defaultdict\n",
        "\n",
        "# Kelas ini mewakili graph berarah\n",
        "# menggunakan representasi daftar adjacency\n",
        "class Graph:\n",
        "\n",
        "\t# Constructor\n",
        "\tdef __init__(self):\n",
        "\n",
        "\t\t# kamus default untuk menyimpan graph\n",
        "\t\tself.graph = defaultdict(list)\n",
        "\n",
        "\t# berfungsi untuk menambahkan tepi ke graph\n",
        "\tdef addEdge(self,u,v):\n",
        "\t\tself.graph[u].append(v)\n",
        "\n",
        "\t# Berfungsi untuk mencetak BFS graph\n",
        "\tdef BFS(self, s):\n",
        "\n",
        "\t\t# Tandai semua simpul sebagai belum dikunjungi\n",
        "\t\tvisited = [False] * (len(self.graph))\n",
        "\n",
        "\t\t# Buat antrian untuk BFS\n",
        "\t\tqueue = []\n",
        "\n",
        "\t\t# Tandai simpul sumber sebagai\n",
        "    # mengunjungi dan mengantrikannya\n",
        "\t\tqueue.append(s)\n",
        "\t\tvisited[s] = True\n",
        "\n",
        "\t\twhile queue:\n",
        "\n",
        "\t\t# Dequeue simpul dari\n",
        "    # antrian dan cetak\n",
        "\t\t\ts = queue.pop(0)\n",
        "\t\t\tprint (s, end = \" \")\n",
        "\n",
        "\t\t\t# Dapatkan semua simpul yang berdekatan dari\n",
        "    # dequeued vertex s. Jika berdekatan\n",
        "    # belum dikunjungi, lalu tandai\n",
        "    # mengunjungi dan mengantrikannya\n",
        "\t\t\tfor i in self.graph[s]:\n",
        "\t\t\t\tif visited[i] == False:\n",
        "\t\t\t\t\tqueue.append(i)\n",
        "\t\t\t\t\tvisited[i] = True\n",
        "\n",
        "# Driver code\n",
        "\n",
        "# Buat graph yang diberikan di\n",
        "# diagram di atas\n",
        "g = Graph()\n",
        "g.addEdge(0, 1)\n",
        "g.addEdge(0, 2)\n",
        "g.addEdge(1, 2)\n",
        "g.addEdge(2, 0)\n",
        "g.addEdge(2, 3)\n",
        "g.addEdge(3, 3)\n",
        "\n",
        "print (\"Berikut adalah Breadth First Traversal\"\n",
        "\t\t\t\t\" (mulai dari simpul 2)\")\n",
        "g.BFS(2)"
      ],
      "metadata": {
        "colab": {
          "base_uri": "https://localhost:8080/"
        },
        "id": "HiRUs9ejh7t1",
        "outputId": "80418fc5-db2f-48fa-b306-27871e34f822"
      },
      "execution_count": null,
      "outputs": [
        {
          "output_type": "stream",
          "name": "stdout",
          "text": [
            "Berikut adalah Breadth First Traversal (mulai dari simpul 2)\n",
            "2 0 3 1 "
          ]
        }
      ]
    },
    {
      "cell_type": "markdown",
      "source": [
        "### Nomor 10"
      ],
      "metadata": {
        "id": "fLiQckOFiIk-"
      }
    },
    {
      "cell_type": "code",
      "source": [
        "from collections import defaultdict\n",
        "\n",
        "# kelas ini merepresentasikan graf berarah menggunakan representasi daftar adjacency\n",
        "\n",
        "class Graph:\n",
        "\t# Constructor\n",
        "\tdef __init__(self):\n",
        "\t\t# kamus default untuk menyimpan graph\n",
        "\t\tself.graph = defaultdict(list)\n",
        "\n",
        "\t# Berfungsi untuk menambahkan tepi ke graph\n",
        "\tdef addEdge(self, u, v):\n",
        "\t\tself.graph[u].append(v)\n",
        "  \n",
        "\t# Fungsi yang digunakan oleh DFS\n",
        "\n",
        "\tdef DFSUtil(self, v, visited):\n",
        "\t\t# Tandai simpul saat ini sebagai telah dikunjungi dan cetaklah\n",
        "\t\tvisited.add(v)\n",
        "\t\tprint(v, end=\" \")\n",
        "\n",
        "\t\t# berulang untuk semua simpul yang berdekatan dengan simpul ini\n",
        "\t\tfor neighbour in self.graph[v]:\n",
        "\t\t\tif neighbour not in visited:\n",
        "\t\t\t\tself.DFSUtil(neighbour, visited)\n",
        "    \n",
        "\t\t# Fungsi untuk melakukan traversal DFS. Ini menggunakan DFSUtil rekursif\n",
        "\n",
        "\tdef DFS(self):\n",
        "\t\t# buat satu set untuk menyimpan semua simpul yang dikunjungi\n",
        "\t\tvisited = set()\n",
        "\t\t# panggil fungsi pembantu rekursif untuk mencetak traversal DFS mulai dari semua\n",
        "    # simpul satu per satu\n",
        "\t\tfor vertex in self.graph:\n",
        "\t\t\tif vertex not in visited:\n",
        "\t\t\t\tself.DFSUtil(vertex, visited)\n",
        "# Kode pengemudi\n",
        "# buat graph yang diberikan dalam diagram di atas\n",
        "\n",
        "if __name__ == \"__main__\":\n",
        "  print(\"Berikut ini adalah Depth First Traversal\")\n",
        "  g = Graph()\n",
        "  g.addEdge(0, 1)\n",
        "  g.addEdge(0, 2)\n",
        "  g.addEdge(1, 2)\n",
        "  g.addEdge(2, 0)\n",
        "  g.addEdge(2, 3)\n",
        "  g.addEdge(3, 3)\n",
        "\n",
        "# memanggil fungsi\n",
        "g.DFS()\n"
      ],
      "metadata": {
        "colab": {
          "base_uri": "https://localhost:8080/"
        },
        "id": "LboDvm56iHxd",
        "outputId": "80533733-1815-4b31-cec3-7a53f12b4a39"
      },
      "execution_count": null,
      "outputs": [
        {
          "output_type": "stream",
          "name": "stdout",
          "text": [
            "Berikut ini adalah Depth First Traversal\n",
            "0 1 2 3 "
          ]
        }
      ]
    }
  ]
}
