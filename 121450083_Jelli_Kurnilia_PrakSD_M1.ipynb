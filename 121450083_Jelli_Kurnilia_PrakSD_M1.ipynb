{
  "cells": [
    {
      "cell_type": "markdown",
      "metadata": {
        "id": "OLjbxXOSxg_l"
      },
      "source": [
        "### **JELLI KURNILIA**\n",
        "###**121450083**\n",
        "### **PRAKTIKUM STRUKTUR DATA (RC)**\n",
        "***Modul 1***"
      ]
    },
    {
      "cell_type": "markdown",
      "metadata": {
        "id": "N4kQ_H7Ox8lc"
      },
      "source": [
        "# *1. Membuat sebuah class yang bisa digunakan untuk menyimpan data detail penjualan buku meliputi Judul, Penulis, Halaman, dan Harga (dalam bentuk tampilan dictionary)*"
      ]
    },
    {
      "cell_type": "code",
      "execution_count": null,
      "metadata": {
        "colab": {
          "base_uri": "https://localhost:8080/"
        },
        "id": "hDOsoMOZx6So",
        "outputId": "3f075d36-4054-48af-b65f-b25d4fef8ae1"
      },
      "outputs": [
        {
          "name": "stdout",
          "output_type": "stream",
          "text": [
            "{'JUDUL BUKU': 'Struktur Data dan Pemanfaatannya', 'PENULIS': 'Jamaludin', 'JUMLAH HALAMAN': '123', 'HARGA TOTAL': 'Rp. 65000'}\n",
            "{'JUDUL BUKU': 'Ilmu Trading Untuk Pemula', 'PENULIS': 'Doni Salmanan KW', 'JUMLAH HALAMAN': '119', 'HARGA TOTAL': 'Rp. 90000'}\n",
            "{'JUDUL BUKU': 'Tuntunan Sholat', 'PENULIS': 'Hamba Allah', 'JUMLAH HALAMAN': '98', 'HARGA TOTAL': 'Rp. 50000'}\n",
            "{'JUDUL BUKU': 'Tutorial Menjadi Idamanmu', 'PENULIS': 'Jellihaha', 'JUMLAH HALAMAN': '128', 'HARGA TOTAL': 'Rp. 99000'}\n",
            "{'JUDUL BUKU': \"It's Okay To Not Be Okay...\", 'PENULIS': 'Mon Gang Tae', 'JUMLAH HALAMAN': '230', 'HARGA TOTAL': 'Rp. 85000'}\n"
          ]
        }
      ],
      "source": [
        "class Detail_Penjualan_Buku:\n",
        "    def __init__(self, Judul, Penulis, Juml_Halaman, Harga):\n",
        "        self.Judul = Judul\n",
        "        self.Penulis = Penulis\n",
        "        self.Juml_Halaman = Juml_Halaman\n",
        "        self.Harga = Harga\n",
        "        return\n",
        "    def display(self):\n",
        "        i = 0\n",
        "        while i < len(self.Judul):\n",
        "            display = {'JUDUL BUKU':self.Judul[i], \"PENULIS\":self.Penulis[i], \"JUMLAH HALAMAN\":self.Juml_Halaman[i], \"HARGA TOTAL\":\"Rp. {}\".format(self.Harga[i])}\n",
        "            print(display)\n",
        "            i += 1\n",
        "\n",
        "Judul = [\"Struktur Data dan Pemanfaatannya\", \"Ilmu Trading Untuk Pemula\", \"Tuntunan Sholat\", \"Tutorial Menjadi Idamanmu\", \"It's Okay To Not Be Okay...\"]\n",
        "Penulis = [\"Jamaludin\", \"Doni Salmanan KW\", \"Hamba Allah\", \"Jellihaha\", \"Mon Gang Tae\"]\n",
        "Juml_Halaman = [\"123\", \"119\", \"98\", \"128\", \"230\"]\n",
        "Harga = [65000, 90000, 50000, 99000, 85000]\n",
        "Data_Penjualan = Detail_Penjualan_Buku(Judul, Penulis,Juml_Halaman,Harga)\n",
        "Data_Penjualan.display()"
      ]
    },
    {
      "cell_type": "markdown",
      "metadata": {
        "id": "er5u7eZi2lyF"
      },
      "source": [
        "# *2. Membuat sebuah program sederhana menggunakan OOP untuk menghitung panjang garis yang menghubungkan titik a(x,y) ke titik b(x,y)*"
      ]
    },
    {
      "cell_type": "code",
      "execution_count": null,
      "metadata": {
        "colab": {
          "base_uri": "https://localhost:8080/"
        },
        "id": "voWDmCRT22k6",
        "outputId": "0b883a06-e136-4aa7-d7b3-bce7019e191c"
      },
      "outputs": [
        {
          "data": {
            "text/plain": [
              "7.810249675906654"
            ]
          },
          "execution_count": 21,
          "metadata": {},
          "output_type": "execute_result"
        }
      ],
      "source": [
        "class Panjang_Garis:\n",
        "    def __init__(self, titik_a, titik_b):\n",
        "        self.titik_a = titik_a\n",
        "        self.titik_b = titik_b\n",
        "    def hitung_panjang(self):\n",
        "        Nilai = 0\n",
        "        for i in range(len(self.titik_a)):\n",
        "            Nilai += (self.titik_b[i]-self.titik_a[i])**2\n",
        "        return Nilai**0.5\n",
        "\n",
        "titik = Panjang_Garis([18,9], [12,4])\n",
        "titik.hitung_panjang()"
      ]
    },
    {
      "cell_type": "markdown",
      "metadata": {
        "id": "rRHrvBMJ58hG"
      },
      "source": [
        "## *3. Membuat sebuah class Segitiga yang dapat digunakan untuk menghitung keliling segitiga dan Luas segitiga (Gunakan Instance Method)*"
      ]
    },
    {
      "cell_type": "code",
      "execution_count": null,
      "metadata": {
        "colab": {
          "base_uri": "https://localhost:8080/"
        },
        "id": "RBrt4SAA6KtH",
        "outputId": "aa1840ae-0c91-4cc9-b146-27c013e78225"
      },
      "outputs": [
        {
          "name": "stdout",
          "output_type": "stream",
          "text": [
            "Jika Panjang Alas adalah 8\n",
            "Jika Panjang Sisi Kanan adalah 10\n",
            "Jika Panjang Sisi Kiri adalah 24\n",
            "Dan Tinggi adalah 12\n",
            "Maka Keliling Segitiga adalah 35\n",
            "Maka Luas Segitiga adalah 25.0\n"
          ]
        }
      ],
      "source": [
        "class Segitiga:\n",
        "    def __init__(self, alas, tinggi, sisi_kanan, sisi_kiri):\n",
        "        self.a = alas\n",
        "        self.t = tinggi\n",
        "        self.b = sisi_kanan\n",
        "        self.c = sisi_kiri\n",
        "    def Keliling_Segitiga(self):\n",
        "        return self.a + self.b + self.c\n",
        "    def Luas_Segitiga(self):\n",
        "        return (self.a*self.t)/2\n",
        "    def display(self):\n",
        "        print(f\"Jika Panjang Alas adalah {self.a}\")\n",
        "        print(f\"Jika Panjang Sisi Kanan adalah {self.b}\")\n",
        "        print(f\"Jika Panjang Sisi Kiri adalah {self.c}\")\n",
        "        print(f\"Dan Tinggi adalah {self.t}\")\n",
        "\n",
        "Keliling_Segitiga = Segitiga(8, 12, 10, 24)\n",
        "Keliling_Segitiga.display()\n",
        "Keliling_Segitiga= kll.keliling()\n",
        "Luas_Segitiga = kll.luas()\n",
        "print(\"Maka Keliling Segitiga adalah\", Keliling_Segitiga)\n",
        "print(\"Maka Luas Segitiga adalah\", Luas_Segitiga)"
      ]
    },
    {
      "cell_type": "markdown",
      "metadata": {
        "id": "652JYYPO9nWm"
      },
      "source": [
        "# 4.Buatlah Main Program yang dapat menyimpan data daftar putar lagu (playlist) dan menerima input dari pengguna sebagai berikut:\n",
        "* g = play *teks yang dimiringkan*\n",
        "* f = first\n",
        "* n = next\n",
        "* p = prev\n",
        "* l = last\n",
        "* lainnya = stop n\\\n",
        "*# Kemudian program akan menampilkan judul lagu dan penyanyi yang sedang diputar dan kembali meminta input dari si pengguna. Program berhenti ketika kondisi stop terpenuhi.*"
      ]
    },
    {
      "cell_type": "code",
      "execution_count": null,
      "metadata": {
        "colab": {
          "base_uri": "https://localhost:8080/"
        },
        "id": "j6Z-rmHE-E0V",
        "outputId": "18d5c540-4492-4e1c-9cbb-e3d95fd050fa"
      },
      "outputs": [
        {
          "name": "stdout",
          "output_type": "stream",
          "text": [
            "\n",
            "Daftar Putar Lagu\n",
            "----------------\n",
            "1. Bahaya\n",
            "2. Melukis Bayangmu\n",
            "3. Tampar\n",
            "4. L\n",
            "5. Tanya Hati\n",
            "press 'g' to play, 'f' first song, 'l' last song, 'n' next song, 'p' prev song, and 'other' to stop this song\n",
            "> l\n",
            "Memutar: Tanya Hati oleh Pasto\n",
            "> p\n",
            "Memutar: L oleh Hal\n",
            "> p\n",
            "Memutar: Tampar oleh Juicy Luicy\n",
            "> k\n",
            "stopped....\n"
          ]
        }
      ],
      "source": [
        "class Daftar_Putar:\n",
        "    def __init__(self, list_lagu, list_penyanyi):\n",
        "        self.list_lagu = list_lagu\n",
        "        self.list_penyanyi = list_penyanyi\n",
        "        self.current_position = 0  \n",
        "  \n",
        "    def __tukar_lagu(self,to_index):\n",
        "        last_pos = len(self.list_lagu) - 1\n",
        "        if to_index > last_pos:\n",
        "            self.current_position = 0\n",
        "        elif to_index < 0:\n",
        "            self.current_position = last_pos\n",
        "        else:\n",
        "            self.current_position = to_index \n",
        "        judul = self.list_lagu[self.current_position]\n",
        "        penyanyi = self.list_penyanyi[self.current_position]\n",
        "        print('Memutar: {} oleh {}'.format(judul, penyanyi))  \n",
        "    \n",
        "    def putar_lagu_pertama(self):\n",
        "        self.__tukar_lagu(0)  \n",
        "    \n",
        "    def putar_lagu_terakhir(self):\n",
        "        last_pos = len(self.list_lagu) - 1\n",
        "        self.__tukar_lagu(last_pos)\n",
        "    \n",
        "    def putar(self):\n",
        "        self.__tukar_lagu(self.current_position)\n",
        "    \n",
        "    def putar_next_lagu(self):\n",
        "        self.__tukar_lagu(self.current_position+1)\n",
        "    \n",
        "    def putar_prev_lagu(self):\n",
        "        self.__tukar_lagu(self.current_position-1)\n",
        "\n",
        "class Lagu:\n",
        "    def __init__(self, judul, penyanyi):\n",
        "        self.judul = judul\n",
        "        self.penyanyi = penyanyi\n",
        "\n",
        "judul_lagu = [\"Bahaya\", \"Melukis Bayangmu\", \"Tampar\", \"L\", \"Tanya Hati\"]\n",
        "penyanyi = [\"Arsy Widianto ft Tiara Andini\", \"Adera\", \"Juicy Luicy\", \"Hal\",\"Pasto\"]\n",
        "print(\"\\nDaftar Putar Lagu\\n----------------\")\n",
        "p = 1\n",
        "for i in judul_lagu:\n",
        "    print(f\"{p}. {i}\")\n",
        "    p += 1\n",
        "print(\"press 'g' to play, 'f' first song, 'l' last song, 'n' next song, 'p' prev song, and 'other' to stop this song\")\n",
        "\n",
        "lagu = Lagu(judul_lagu, penyanyi)\n",
        "main = DaftarPutar(lagu.judul, lagu.penyanyi)\n",
        "\n",
        "while True:\n",
        "    ket = input(\"> \")\n",
        "    if ket == \"g\":\n",
        "        main.putar()\n",
        "    elif ket == \"f\":\n",
        "        main.putar_lagu_pertama()\n",
        "    elif ket == \"n\":\n",
        "        main.putar_next_lagu()\n",
        "    elif ket == \"p\":\n",
        "        main.putar_prev_lagu()p\n",
        "        \n",
        "    elif ket == \"l\":\n",
        "        main.putar_lagu_terakhir()\n",
        "    else:\n",
        "        print(\"stopped....\")\n",
        "        break\n"
      ]
    }
  ],
  "metadata": {
    "colab": {
      "provenance": []
    },
    "kernelspec": {
      "display_name": "Python 3",
      "name": "python3"
    },
    "language_info": {
      "name": "python"
    }
  },
  "nbformat": 4,
  "nbformat_minor": 0
}
