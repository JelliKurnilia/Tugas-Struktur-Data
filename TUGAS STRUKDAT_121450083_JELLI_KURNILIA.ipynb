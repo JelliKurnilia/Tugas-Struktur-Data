{
  "nbformat": 4,
  "nbformat_minor": 0,
  "metadata": {
    "colab": {
      "provenance": [],
      "authorship_tag": "ABX9TyOIXYsBvdNARf3GTD8xmNQl",
      "include_colab_link": true
    },
    "kernelspec": {
      "name": "python3",
      "display_name": "Python 3"
    },
    "language_info": {
      "name": "python"
    }
  },
  "cells": [
    {
      "cell_type": "markdown",
      "metadata": {
        "id": "view-in-github",
        "colab_type": "text"
      },
      "source": [
        "<a href=\"https://colab.research.google.com/github/JelliKurnilia/Tugas-StrukturData/blob/main/TUGAS%20STRUKDAT_121450083_JELLI_KURNILIA.ipynb\" target=\"_parent\"><img src=\"https://colab.research.google.com/assets/colab-badge.svg\" alt=\"Open In Colab\"/></a>"
      ]
    },
    {
      "cell_type": "markdown",
      "source": [
        "#**JELLI KURNILIA**\n",
        "# **121450083**\n",
        "# **STRUKTUR DATA/ RC**\n",
        "*24 November 2022*"
      ],
      "metadata": {
        "id": "47RaCWCP0BWf"
      }
    },
    {
      "cell_type": "markdown",
      "source": [
        "# Task belajar ADT list (Unorder List) dengan Python\n",
        "Berikut beberapa baris code dalam bentuk class yang diperlukan untuk memami ADT list pada pembelajaran struktur Data\n",
        "\n",
        "`Task:` Lengkapi fungsi yang terdapat pada class UnoderList dan lakukan pengecekan pada setiap fungsi yang telah anda lengkapi\n",
        "\n",
        "`Pengumpulan:` secara kolektif berupa link project di `replit.com`"
      ],
      "metadata": {
        "id": "B7yyhNsXzwGu"
      }
    },
    {
      "cell_type": "code",
      "source": [
        "class Node:\n",
        "      def __init__(self,data:None):\n",
        "            self.data = data\n",
        "            self.next = None\n",
        "            \n",
        "      def getData(self):\n",
        "            return self.data\n",
        "      \n",
        "      def getNext(self):\n",
        "            return self.next\n",
        "      \n",
        "      def setData(self,newdata):\n",
        "            self.data = newdata\n",
        "            \n",
        "      def setNext(self,newnext):\n",
        "            self.next = newnext\n",
        "\n",
        "# Testing/Pengecekan\n",
        "n1 = Node(10)\n",
        "n2 = Node('a')\n",
        "n3 = Node(12)\n",
        "\n",
        "n1.setNext(n3)\n",
        "n3.setNext(n2)\n",
        "\n",
        "c = n1\n",
        "while c :\n",
        "    print(c.data)\n",
        "    c = c.next\n",
        "     "
      ],
      "metadata": {
        "colab": {
          "base_uri": "https://localhost:8080/"
        },
        "id": "OFA3Nwbi0nu0",
        "outputId": "8f833f7e-edad-4fd6-a781-993c7b4bacdb"
      },
      "execution_count": 1,
      "outputs": [
        {
          "output_type": "stream",
          "name": "stdout",
          "text": [
            "10\n",
            "12\n",
            "a\n"
          ]
        }
      ]
    },
    {
      "cell_type": "code",
      "source": [
        "# UnoderList\n",
        "class UnoderList: # Mendefinisikan sebuah class bernama UnorderList\n",
        "      def __init__(self):\n",
        "          self.head = None\n",
        "\n",
        "      def isEmpty(self):\n",
        "          return self.head == None\n",
        "\n",
        "      def add(self,item):\n",
        "          temp = Node(item)\n",
        "          temp.setNext(self.head)\n",
        "          self.head = temp\n",
        "\n",
        "      def size(self):\n",
        "          current = self.head\n",
        "          count = 0\n",
        "          while current != None:\n",
        "              count = count + 1\n",
        "              current = current.getNext()\n",
        "          return count\n",
        "\n",
        "      # mencari item dalam daftar.\n",
        "      def search(self,item):\n",
        "          current = self.head\n",
        "          while current != None:\n",
        "              if item == current.getData():\n",
        "                return True\n",
        "                break\n",
        "              current = current.getNext()\n",
        "              if current == None:\n",
        "                return False\n",
        "      \n",
        "      # Menghapus nilai dari suatu Unorderlist\n",
        "      def remove(self,item):\n",
        "          if self.head == None:\n",
        "            print(\"Unorder list is empty\")\n",
        "          elif self.search(item) == False:\n",
        "            pass\n",
        "          else:\n",
        "            current = self.head\n",
        "            prev = None\n",
        "            while True:\n",
        "              if current.getData() == item:\n",
        "                break\n",
        "              prev, current = current, current.getNext()\n",
        "            if prev == None:\n",
        "              self.head = current.getNext()\n",
        "            else:\n",
        "              prev.next = current.getNext() \n",
        "      \n",
        "      # menambahkan item baru ke akhir daftar menjadikannya item terakhir dalam koleksi.\n",
        "      def append(self, item):\n",
        "          current = self.head\n",
        "          temp = Node(item)\n",
        "          while current.getNext() != None:\n",
        "            current = current.getNext()\n",
        "          current.setNext(temp)\n",
        "      \n",
        "      # mengembalikan posisi item dalam daftar.\n",
        "      def index(self, item):\n",
        "          if self.search(item) == True:\n",
        "            index = 0\n",
        "            current = self.head\n",
        "            while current != None:\n",
        "              if current.getData() == item:\n",
        "                return index\n",
        "                break\n",
        "              current = current.getNext()\n",
        "              index += 1\n",
        "          else:\n",
        "            return f\"{item} is not in the list\"\n",
        "      \n",
        "      # menambahkan item baru ke daftar \n",
        "      def insert(self, pos, item):\n",
        "          if self.size() <= pos:\n",
        "            pos = self.size()\n",
        "          current = self.head\n",
        "          index = 0\n",
        "          prev = None\n",
        "          while True:\n",
        "            if pos == index:\n",
        "              break\n",
        "            prev, current = current, current.getNext()\n",
        "            index += 1\n",
        "          if prev == None:\n",
        "            temp = Node(item)\n",
        "            temp.setNext(self.head)\n",
        "            self.head = temp\n",
        "          else:\n",
        "            temp = Node(item)\n",
        "            temp.setNext(current)\n",
        "            prev.setNext(temp)\n",
        "      \n",
        "      # menghapus dan mengembalikan item terakhir dalam daftar \n",
        "      def pop(self, pos = None):\n",
        "          if pos != None:\n",
        "            self.pop_pos(pos)\n",
        "          else:\n",
        "            current = self.head\n",
        "            prev = None\n",
        "            if current == None:\n",
        "              return \"Unorder list is empty\"\n",
        "            while current.getNext() != None:\n",
        "              prev = current\n",
        "              current = current.getNext()\n",
        "            prev.setNext(None)\n",
        "            return current.getData()\n",
        "\n",
        "      # menghapus dan mengembalikan item.\n",
        "      def pop_pos(self, pos):\n",
        "          current = self.head\n",
        "          prev = None\n",
        "          index = 0\n",
        "          if current == None:\n",
        "            return \"Unorder list is empty\"\n",
        "          while index < pos and current != None:\n",
        "            prev, current = current, current.getNext()\n",
        "            index += 1 \n",
        "          if current == None:\n",
        "            return \"The index is empty\"\n",
        "          else:\n",
        "            if prev == None:\n",
        "              self.head = current.getNext()\n",
        "            else:\n",
        "              prev.setNext(current.getNext())\n",
        "            return current.getData()\n",
        "      \n",
        "      # mencetak nilai di dalam unorderlist \n",
        "      def cetak(self):\n",
        "            if self.head == None:\n",
        "              print(\"Unorder list is empty\")\n",
        "            else:\n",
        "              current = self.head\n",
        "              data = []\n",
        "              while current != None:\n",
        "                  data.append(current.getData())\n",
        "                  current = current.getNext()\n",
        "              return data\n",
        "     "
      ],
      "metadata": {
        "id": "FD6i68B50sAk"
      },
      "execution_count": 2,
      "outputs": []
    },
    {
      "cell_type": "code",
      "source": [
        "MyUnorderList = UnoderList()\n",
        "print(MyUnorderList.isEmpty())\n",
        "MyUnorderList.add(70)\n",
        "MyUnorderList.add(71)\n",
        "MyUnorderList.add(72) # 72, 71, 70\n",
        "print(MyUnorderList.cetak())\n",
        "MyUnorderList.remove(1)\n",
        "print(MyUnorderList.cetak()) \n",
        "MyUnorderList.add(80)\n",
        "\n",
        "print(MyUnorderList.size())\n",
        "print(MyUnorderList.search(2))\n",
        "MyUnorderList.remove(1)\n",
        "MyUnorderList.append(77)\n",
        "print(MyUnorderList.cetak())\n",
        "print(MyUnorderList.index(77))\n",
        "print(MyUnorderList.index(71))\n",
        "print(MyUnorderList.index(77))\n",
        "MyUnorderList.insert(1, 2)\n",
        "print(MyUnorderList.size())\n",
        "MyUnorderList.insert(10, 19)\n",
        "print(MyUnorderList.cetak())\n",
        "MyUnorderList.pop(0)\n",
        "print(MyUnorderList.cetak())"
      ],
      "metadata": {
        "colab": {
          "base_uri": "https://localhost:8080/"
        },
        "id": "aNclOili06dc",
        "outputId": "eda42598-1649-41f5-b6fe-0ab87721d499"
      },
      "execution_count": 4,
      "outputs": [
        {
          "output_type": "stream",
          "name": "stdout",
          "text": [
            "True\n",
            "[72, 71, 70]\n",
            "[72, 71, 70]\n",
            "4\n",
            "False\n",
            "[80, 72, 71, 70, 77]\n",
            "4\n",
            "2\n",
            "4\n",
            "6\n",
            "[80, 2, 72, 71, 70, 77, 19]\n",
            "[2, 72, 71, 70, 77, 19]\n"
          ]
        }
      ]
    }
  ]
}